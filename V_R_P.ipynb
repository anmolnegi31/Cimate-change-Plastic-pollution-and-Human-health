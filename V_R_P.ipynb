{
  "cells": [
    {
      "cell_type": "code",
      "execution_count": null,
      "metadata": {
        "colab": {
          "base_uri": "https://localhost:8080/"
        },
        "id": "UVlnABQ66LE9",
        "outputId": "8f410693-4b58-4e79-d7b3-5e1257148a6f"
      },
      "outputs": [
        {
          "name": "stdout",
          "output_type": "stream",
          "text": [
            "Collecting pygetpapers\n",
            "  Downloading pygetpapers-1.2.5-py3-none-any.whl (111 kB)\n",
            "\u001b[2K     \u001b[90m━━━━━━━━━━━━━━━━━━━━━━━━━━━━━━━━━━━━━━━━\u001b[0m \u001b[32m111.4/111.4 kB\u001b[0m \u001b[31m2.5 MB/s\u001b[0m eta \u001b[36m0:00:00\u001b[0m\n",
            "\u001b[?25hRequirement already satisfied: requests in /usr/local/lib/python3.10/dist-packages (from pygetpapers) (2.31.0)\n",
            "Requirement already satisfied: pandas in /usr/local/lib/python3.10/dist-packages (from pygetpapers) (2.0.3)\n",
            "Requirement already satisfied: lxml in /usr/local/lib/python3.10/dist-packages (from pygetpapers) (4.9.4)\n",
            "Collecting xmltodict (from pygetpapers)\n",
            "  Downloading xmltodict-0.13.0-py2.py3-none-any.whl (10.0 kB)\n",
            "Collecting configargparse (from pygetpapers)\n",
            "  Downloading ConfigArgParse-1.7-py3-none-any.whl (25 kB)\n",
            "Collecting habanero (from pygetpapers)\n",
            "  Downloading habanero-1.2.6-py2.py3-none-any.whl (30 kB)\n",
            "Collecting arxiv (from pygetpapers)\n",
            "  Downloading arxiv-2.1.0-py3-none-any.whl (11 kB)\n",
            "Collecting dict2xml (from pygetpapers)\n",
            "  Downloading dict2xml-1.7.5-py3-none-any.whl (7.9 kB)\n",
            "Requirement already satisfied: tqdm in /usr/local/lib/python3.10/dist-packages (from pygetpapers) (4.66.4)\n",
            "Collecting coloredlogs (from pygetpapers)\n",
            "  Downloading coloredlogs-15.0.1-py2.py3-none-any.whl (46 kB)\n",
            "\u001b[2K     \u001b[90m━━━━━━━━━━━━━━━━━━━━━━━━━━━━━━━━━━━━━━━━\u001b[0m \u001b[32m46.0/46.0 kB\u001b[0m \u001b[31m1.8 MB/s\u001b[0m eta \u001b[36m0:00:00\u001b[0m\n",
            "\u001b[?25hCollecting feedparser==6.0.10 (from arxiv->pygetpapers)\n",
            "  Downloading feedparser-6.0.10-py3-none-any.whl (81 kB)\n",
            "\u001b[2K     \u001b[90m━━━━━━━━━━━━━━━━━━━━━━━━━━━━━━━━━━━━━━━━\u001b[0m \u001b[32m81.1/81.1 kB\u001b[0m \u001b[31m5.2 MB/s\u001b[0m eta \u001b[36m0:00:00\u001b[0m\n",
            "\u001b[?25hRequirement already satisfied: charset-normalizer<4,>=2 in /usr/local/lib/python3.10/dist-packages (from requests->pygetpapers) (3.3.2)\n",
            "Requirement already satisfied: idna<4,>=2.5 in /usr/local/lib/python3.10/dist-packages (from requests->pygetpapers) (3.7)\n",
            "Requirement already satisfied: urllib3<3,>=1.21.1 in /usr/local/lib/python3.10/dist-packages (from requests->pygetpapers) (2.0.7)\n",
            "Requirement already satisfied: certifi>=2017.4.17 in /usr/local/lib/python3.10/dist-packages (from requests->pygetpapers) (2024.6.2)\n",
            "Collecting sgmllib3k (from feedparser==6.0.10->arxiv->pygetpapers)\n",
            "  Downloading sgmllib3k-1.0.0.tar.gz (5.8 kB)\n",
            "  Preparing metadata (setup.py) ... \u001b[?25l\u001b[?25hdone\n",
            "Collecting humanfriendly>=9.1 (from coloredlogs->pygetpapers)\n",
            "  Downloading humanfriendly-10.0-py2.py3-none-any.whl (86 kB)\n",
            "\u001b[2K     \u001b[90m━━━━━━━━━━━━━━━━━━━━━━━━━━━━━━━━━━━━━━━━\u001b[0m \u001b[32m86.8/86.8 kB\u001b[0m \u001b[31m6.4 MB/s\u001b[0m eta \u001b[36m0:00:00\u001b[0m\n",
            "\u001b[?25hRequirement already satisfied: python-dateutil>=2.8.2 in /usr/local/lib/python3.10/dist-packages (from pandas->pygetpapers) (2.8.2)\n",
            "Requirement already satisfied: pytz>=2020.1 in /usr/local/lib/python3.10/dist-packages (from pandas->pygetpapers) (2023.4)\n",
            "Requirement already satisfied: tzdata>=2022.1 in /usr/local/lib/python3.10/dist-packages (from pandas->pygetpapers) (2024.1)\n",
            "Requirement already satisfied: numpy>=1.21.0 in /usr/local/lib/python3.10/dist-packages (from pandas->pygetpapers) (1.25.2)\n",
            "Requirement already satisfied: six>=1.5 in /usr/local/lib/python3.10/dist-packages (from python-dateutil>=2.8.2->pandas->pygetpapers) (1.16.0)\n",
            "Building wheels for collected packages: sgmllib3k\n",
            "  Building wheel for sgmllib3k (setup.py) ... \u001b[?25l\u001b[?25hdone\n",
            "  Created wheel for sgmllib3k: filename=sgmllib3k-1.0.0-py3-none-any.whl size=6049 sha256=0efd41684c0d482d0e5483b618cfd6b08445aaa14875f572573723a02b05e9d8\n",
            "  Stored in directory: /root/.cache/pip/wheels/f0/69/93/a47e9d621be168e9e33c7ce60524393c0b92ae83cf6c6e89c5\n",
            "Successfully built sgmllib3k\n",
            "Installing collected packages: sgmllib3k, xmltodict, humanfriendly, feedparser, dict2xml, configargparse, habanero, coloredlogs, arxiv, pygetpapers\n",
            "Successfully installed arxiv-2.1.0 coloredlogs-15.0.1 configargparse-1.7 dict2xml-1.7.5 feedparser-6.0.10 habanero-1.2.6 humanfriendly-10.0 pygetpapers-1.2.5 sgmllib3k-1.0.0 xmltodict-0.13.0\n"
          ]
        }
      ],
      "source": [
        "!pip install pygetpapers"
      ]
    },
    {
      "cell_type": "code",
      "execution_count": null,
      "metadata": {
        "colab": {
          "base_uri": "https://localhost:8080/"
        },
        "id": "TCtSy9kc7dQQ",
        "outputId": "1eefa969-7a65-4c1e-c09e-b1f408039905"
      },
      "outputs": [
        {
          "name": "stdout",
          "output_type": "stream",
          "text": [
            "Requirement already satisfied: pygetpapers in /usr/local/lib/python3.10/dist-packages (1.2.5)\n",
            "Requirement already satisfied: requests in /usr/local/lib/python3.10/dist-packages (from pygetpapers) (2.31.0)\n",
            "Requirement already satisfied: pandas in /usr/local/lib/python3.10/dist-packages (from pygetpapers) (2.0.3)\n",
            "Requirement already satisfied: lxml in /usr/local/lib/python3.10/dist-packages (from pygetpapers) (4.9.4)\n",
            "Requirement already satisfied: xmltodict in /usr/local/lib/python3.10/dist-packages (from pygetpapers) (0.13.0)\n",
            "Requirement already satisfied: configargparse in /usr/local/lib/python3.10/dist-packages (from pygetpapers) (1.7)\n",
            "Requirement already satisfied: habanero in /usr/local/lib/python3.10/dist-packages (from pygetpapers) (1.2.6)\n",
            "Requirement already satisfied: arxiv in /usr/local/lib/python3.10/dist-packages (from pygetpapers) (2.1.0)\n",
            "Requirement already satisfied: dict2xml in /usr/local/lib/python3.10/dist-packages (from pygetpapers) (1.7.5)\n",
            "Requirement already satisfied: tqdm in /usr/local/lib/python3.10/dist-packages (from pygetpapers) (4.66.4)\n",
            "Requirement already satisfied: coloredlogs in /usr/local/lib/python3.10/dist-packages (from pygetpapers) (15.0.1)\n",
            "Requirement already satisfied: feedparser==6.0.10 in /usr/local/lib/python3.10/dist-packages (from arxiv->pygetpapers) (6.0.10)\n",
            "Requirement already satisfied: charset-normalizer<4,>=2 in /usr/local/lib/python3.10/dist-packages (from requests->pygetpapers) (3.3.2)\n",
            "Requirement already satisfied: idna<4,>=2.5 in /usr/local/lib/python3.10/dist-packages (from requests->pygetpapers) (3.7)\n",
            "Requirement already satisfied: urllib3<3,>=1.21.1 in /usr/local/lib/python3.10/dist-packages (from requests->pygetpapers) (2.0.7)\n",
            "Requirement already satisfied: certifi>=2017.4.17 in /usr/local/lib/python3.10/dist-packages (from requests->pygetpapers) (2024.6.2)\n",
            "Requirement already satisfied: sgmllib3k in /usr/local/lib/python3.10/dist-packages (from feedparser==6.0.10->arxiv->pygetpapers) (1.0.0)\n",
            "Requirement already satisfied: humanfriendly>=9.1 in /usr/local/lib/python3.10/dist-packages (from coloredlogs->pygetpapers) (10.0)\n",
            "Requirement already satisfied: python-dateutil>=2.8.2 in /usr/local/lib/python3.10/dist-packages (from pandas->pygetpapers) (2.8.2)\n",
            "Requirement already satisfied: pytz>=2020.1 in /usr/local/lib/python3.10/dist-packages (from pandas->pygetpapers) (2023.4)\n",
            "Requirement already satisfied: tzdata>=2022.1 in /usr/local/lib/python3.10/dist-packages (from pandas->pygetpapers) (2024.1)\n",
            "Requirement already satisfied: numpy>=1.21.0 in /usr/local/lib/python3.10/dist-packages (from pandas->pygetpapers) (1.25.2)\n",
            "Requirement already satisfied: six>=1.5 in /usr/local/lib/python3.10/dist-packages (from python-dateutil>=2.8.2->pandas->pygetpapers) (1.16.0)\n"
          ]
        }
      ],
      "source": [
        "!pip install pygetpapers"
      ]
    },
    {
      "cell_type": "code",
      "execution_count": null,
      "metadata": {
        "colab": {
          "base_uri": "https://localhost:8080/"
        },
        "id": "bhc9Zlxy7oW3",
        "outputId": "7ea14fd6-0c79-45db-da91-6898d89c6ed3"
      },
      "outputs": [
        {
          "name": "stdout",
          "output_type": "stream",
          "text": [
            "\u001b[1;30mINFO:\u001b[0m Total Hits are 37109\n",
            "\r0it [00:00, ?it/s]\r10it [00:00, 78840.30it/s]\n",
            "\u001b[1;30mINFO:\u001b[0m Saving XML files to /content/plastic_pollution/*/fulltext.xml\n",
            "  0% 0/10 [00:00<?, ?it/s]\u001b[1;30mINFO:\u001b[0m Wrote the pdf file for PMC11042729\n",
            " 10% 1/10 [00:03<00:28,  3.16s/it]\u001b[1;30mINFO:\u001b[0m Wrote the pdf file for PMC10917744\n",
            "\u001b[1;30mINFO:\u001b[0m Wrote the pdf file for PMC10917744\n",
            " 20% 2/10 [00:07<00:30,  3.84s/it]\u001b[1;30mINFO:\u001b[0m Wrote the pdf file for PMC11004578\n",
            " 30% 3/10 [00:10<00:22,  3.28s/it]\u001b[1;30mINFO:\u001b[0m Wrote the pdf file for PMC10957937\n",
            "\u001b[1;30mINFO:\u001b[0m Wrote the pdf file for PMC10957937\n",
            " 40% 4/10 [00:12<00:18,  3.06s/it]\u001b[1;30mINFO:\u001b[0m Wrote the pdf file for PMC10314155\n",
            " 50% 5/10 [00:14<00:12,  2.42s/it]\u001b[1;30mINFO:\u001b[0m Wrote the pdf file for PMC11097532\n",
            "\u001b[1;30mINFO:\u001b[0m Wrote the pdf file for PMC11097532\n",
            " 60% 6/10 [00:25<00:22,  5.61s/it]\u001b[1;30mINFO:\u001b[0m Wrote the pdf file for PMC11058615\n",
            " 70% 7/10 [00:30<00:15,  5.31s/it]\u001b[1;30mINFO:\u001b[0m Wrote the pdf file for PMC10032476\n",
            "\u001b[1;30mINFO:\u001b[0m Wrote the pdf file for PMC10032476\n",
            " 80% 8/10 [00:32<00:08,  4.37s/it]\u001b[1;30mINFO:\u001b[0m Wrote the pdf file for PMC10806995\n",
            " 90% 9/10 [00:36<00:03,  3.97s/it]\u001b[1;30mINFO:\u001b[0m Wrote the pdf file for PMC10613303\n",
            "\u001b[1;30mINFO:\u001b[0m Wrote the pdf file for PMC10613303\n",
            "100% 10/10 [00:48<00:00,  4.81s/it]\n"
          ]
        }
      ],
      "source": [
        "!pygetpapers --query \"Plastic pollution\" -x -p -k 10 --output plastic_pollution"
      ]
    },
    {
      "cell_type": "code",
      "execution_count": null,
      "metadata": {
        "colab": {
          "base_uri": "https://localhost:8080/"
        },
        "id": "iXEnjdk98CYo",
        "outputId": "fdbec650-6064-49c0-a5d7-a4ca5edf30e4"
      },
      "outputs": [
        {
          "name": "stdout",
          "output_type": "stream",
          "text": [
            "\u001b[1;30mINFO:\u001b[0m Total Hits are 337968\n",
            "\r0it [00:00, ?it/s]\r10it [00:00, 70730.25it/s]\n",
            "\u001b[1;30mINFO:\u001b[0m Saving XML files to /content/Climate_change/*/fulltext.xml\n",
            "  0% 0/10 [00:00<?, ?it/s]\u001b[1;30mINFO:\u001b[0m Wrote the pdf file for PMC10951626\n",
            " 10% 1/10 [00:02<00:22,  2.55s/it]\u001b[1;30mINFO:\u001b[0m Wrote the pdf file for PMC11139277\n",
            " 20% 2/10 [00:04<00:17,  2.22s/it]\u001b[1;30mINFO:\u001b[0m Wrote the pdf file for PMC11076737\n",
            " 30% 3/10 [00:06<00:15,  2.23s/it]\u001b[1;30mINFO:\u001b[0m Wrote the pdf file for PMC11088128\n",
            "\u001b[1;30mINFO:\u001b[0m Wrote the pdf file for PMC11088128\n",
            " 40% 4/10 [00:12<00:21,  3.61s/it]\u001b[1;30mINFO:\u001b[0m Wrote the pdf file for PMC11023931\n",
            "\u001b[1;30mINFO:\u001b[0m Wrote the pdf file for PMC11023931\n",
            " 50% 5/10 [01:18<02:10, 26.10s/it]\u001b[1;30mINFO:\u001b[0m Wrote the pdf file for PMC11009628\n",
            "\u001b[1;30mINFO:\u001b[0m Wrote the pdf file for PMC11009628\n",
            " 60% 6/10 [01:20<01:11, 17.82s/it]\u001b[1;30mINFO:\u001b[0m Wrote the pdf file for PMC11079277\n",
            " 70% 7/10 [01:23<00:39, 13.16s/it]\u001b[1;30mINFO:\u001b[0m Wrote the pdf file for PMC11011371\n",
            " 80% 8/10 [01:25<00:18,  9.43s/it]\u001b[1;30mINFO:\u001b[0m Wrote the pdf file for PMC11033471\n",
            " 90% 9/10 [01:27<00:07,  7.29s/it]\u001b[1;30mINFO:\u001b[0m Wrote the pdf file for PMC10904339\n",
            "\u001b[1;30mINFO:\u001b[0m Wrote the pdf file for PMC10904339\n",
            "100% 10/10 [01:30<00:00,  9.07s/it]\n"
          ]
        }
      ],
      "source": [
        "!pygetpapers --query \"Climate change\" -x -p -k 10 --output Climate_change"
      ]
    },
    {
      "cell_type": "code",
      "execution_count": null,
      "metadata": {
        "colab": {
          "base_uri": "https://localhost:8080/"
        },
        "id": "liaW4dwa8TOl",
        "outputId": "98dfc7f1-bd43-41d3-ee9e-691c1fc9c360"
      },
      "outputs": [
        {
          "name": "stdout",
          "output_type": "stream",
          "text": [
            "\u001b[1;30mINFO:\u001b[0m Total Hits are 3782653\n",
            "\r0it [00:00, ?it/s]\r10it [00:00, 93622.86it/s]\n",
            "\u001b[1;30mINFO:\u001b[0m Saving XML files to /content/Human_health/*/fulltext.xml\n",
            "  0% 0/10 [00:00<?, ?it/s]\u001b[1;30mINFO:\u001b[0m Wrote the pdf file for PMC10973985\n",
            " 20% 2/10 [00:05<00:19,  2.40s/it]\u001b[1;30mINFO:\u001b[0m Wrote the pdf file for PMC11134732\n",
            "\u001b[1;30mINFO:\u001b[0m Wrote the pdf file for PMC11134732\n",
            " 30% 3/10 [00:25<01:12, 10.39s/it]\u001b[1;30mINFO:\u001b[0m Wrote the pdf file for PMC11050485\n",
            " 40% 4/10 [00:28<00:44,  7.44s/it]\u001b[1;30mINFO:\u001b[0m Wrote the pdf file for PMC11002681\n",
            " 50% 5/10 [00:33<00:33,  6.64s/it]\u001b[1;30mINFO:\u001b[0m Wrote the pdf file for PMC10975530\n",
            " 60% 6/10 [00:34<00:19,  4.78s/it]\u001b[1;30mINFO:\u001b[0m Wrote the pdf file for PMC11124005\n",
            " 70% 7/10 [00:36<00:11,  3.86s/it]\u001b[1;30mINFO:\u001b[0m Wrote the pdf file for PMC11011512\n",
            " 80% 8/10 [00:38<00:06,  3.26s/it]\u001b[1;30mINFO:\u001b[0m Wrote the pdf file for PMC10779361\n",
            " 90% 9/10 [00:43<00:03,  3.72s/it]\u001b[1;30mINFO:\u001b[0m Wrote the pdf file for PMC10819490\n",
            "100% 10/10 [00:47<00:00,  4.75s/it]\n"
          ]
        }
      ],
      "source": [
        "!pygetpapers --query \"Human health\" -x -p -k 10 --output Human_health"
      ]
    },
    {
      "cell_type": "code",
      "execution_count": null,
      "metadata": {
        "colab": {
          "base_uri": "https://localhost:8080/"
        },
        "id": "fLNY0sD_8o2Z",
        "outputId": "4fa1074a-1f02-4717-eb93-8ad7f15c5a0b"
      },
      "outputs": [
        {
          "name": "stdout",
          "output_type": "stream",
          "text": [
            "\u001b[1;30mINFO:\u001b[0m Total Hits are 79058\n",
            "\r0it [00:00, ?it/s]\r10it [00:00, 78398.21it/s]\n",
            "\u001b[1;30mINFO:\u001b[0m Saving XML files to /content/Environmental_crisis/*/fulltext.xml\n",
            "  0% 0/10 [00:00<?, ?it/s]\u001b[1;30mINFO:\u001b[0m Wrote the pdf file for PMC10901142\n",
            " 10% 1/10 [00:06<00:59,  6.66s/it]\u001b[1;30mINFO:\u001b[0m Wrote the pdf file for PMC10499552\n",
            " 40% 4/10 [00:13<00:18,  3.01s/it]\u001b[1;30mINFO:\u001b[0m Wrote the pdf file for PMC7612203\n",
            " 50% 5/10 [00:21<00:25,  5.05s/it]\u001b[1;30mINFO:\u001b[0m Wrote the pdf file for PMC7960880\n",
            " 60% 6/10 [00:23<00:15,  3.77s/it]\u001b[1;30mINFO:\u001b[0m Wrote the pdf file for PMC8596479\n",
            " 70% 7/10 [00:29<00:13,  4.60s/it]\u001b[1;30mINFO:\u001b[0m Wrote the pdf file for PMC8748437\n",
            "\u001b[1;30mINFO:\u001b[0m Wrote the pdf file for PMC8748437\n",
            " 80% 8/10 [00:46<00:17,  8.65s/it]\u001b[1;30mINFO:\u001b[0m Wrote the pdf file for PMC8810853\n",
            "\u001b[1;30mINFO:\u001b[0m Wrote the pdf file for PMC8810853\n",
            " 90% 9/10 [00:56<00:08,  8.96s/it]\u001b[1;30mINFO:\u001b[0m Wrote the pdf file for PMC8175799\n",
            "\u001b[1;30mINFO:\u001b[0m Wrote the pdf file for PMC8175799\n",
            "100% 10/10 [01:01<00:00,  6.10s/it]\n"
          ]
        }
      ],
      "source": [
        "!pygetpapers --query \"Environmental crisis\" -x -p -k 10 --output Environmental_crisis"
      ]
    },
    {
      "cell_type": "code",
      "execution_count": null,
      "metadata": {
        "colab": {
          "background_save": true,
          "base_uri": "https://localhost:8080/"
        },
        "id": "0Ma1qEh586bz",
        "outputId": "07575e43-ede8-40ef-f185-d85c2fa869ab"
      },
      "outputs": [
        {
          "name": "stdout",
          "output_type": "stream",
          "text": [
            "\u001b[1;30mINFO:\u001b[0m Total Hits are 302952\n",
            "10it [00:00, 89051.04it/s]\n",
            "\u001b[1;30mINFO:\u001b[0m Saving XML files to /content/Single_use_plastic/*/fulltext.xml\n",
            "  0% 0/10 [00:00<?, ?it/s]\u001b[1;30mINFO:\u001b[0m Wrote the pdf file for PMC11121293\n",
            " 10% 1/10 [00:14<02:13, 14.82s/it]\u001b[1;30mINFO:\u001b[0m Wrote the pdf file for PMC11081253\n",
            "\u001b[1;30mINFO:\u001b[0m Wrote the pdf file for PMC11081253\n",
            " 20% 2/10 [00:16<00:58,  7.32s/it]\u001b[1;30mINFO:\u001b[0m Wrote the pdf file for PMC9988906\n",
            "\u001b[1;30mINFO:\u001b[0m Wrote the pdf file for PMC9988906\n",
            " 30% 3/10 [00:18<00:34,  4.86s/it]\u001b[1;30mINFO:\u001b[0m Wrote the pdf file for PMC11143755\n",
            "\u001b[1;30mINFO:\u001b[0m Wrote the pdf file for PMC11143755\n",
            " 40% 4/10 [00:21<00:24,  4.17s/it]\u001b[1;30mINFO:\u001b[0m Wrote the pdf file for PMC9785204\n",
            "\u001b[1;30mINFO:\u001b[0m Wrote the pdf file for PMC9785204\n",
            " 50% 5/10 [00:28<00:25,  5.08s/it]\u001b[1;30mINFO:\u001b[0m Wrote the pdf file for PMC8835206\n",
            "\u001b[1;30mINFO:\u001b[0m Wrote the pdf file for PMC8835206\n",
            " 60% 6/10 [00:32<00:18,  4.57s/it]\u001b[1;30mINFO:\u001b[0m Wrote the pdf file for PMC9345657\n",
            " 70% 7/10 [00:37<00:14,  4.73s/it]\u001b[1;30mINFO:\u001b[0m Wrote the pdf file for PMC8859718\n",
            "\u001b[1;30mINFO:\u001b[0m Wrote the pdf file for PMC8859718\n",
            " 80% 8/10 [00:41<00:09,  4.71s/it]\u001b[1;30mINFO:\u001b[0m Wrote the pdf file for PMC8806402\n",
            " 90% 9/10 [00:43<00:03,  3.67s/it]\u001b[1;30mINFO:\u001b[0m Wrote the pdf file for PMC8918963\n",
            "\u001b[1;30mINFO:\u001b[0m Wrote the pdf file for PMC8918963\n",
            "100% 10/10 [00:47<00:00,  4.76s/it]\n"
          ]
        }
      ],
      "source": [
        "!pygetpapers --query \"  Single use plastic\" -x -p -k 10 --output Single_use_plastic"
      ]
    },
    {
      "cell_type": "code",
      "execution_count": null,
      "metadata": {
        "colab": {
          "background_save": true
        },
        "id": "19Ix-ABq9IMh",
        "outputId": "65e699e7-aafa-4549-ef75-e5e21c15d075"
      },
      "outputs": [
        {
          "name": "stdout",
          "output_type": "stream",
          "text": [
            "\u001b[1;30mINFO:\u001b[0m Total Hits are 9151\n",
            "10it [00:00, 84904.94it/s]\n",
            "\u001b[1;30mINFO:\u001b[0m Saving XML files to /content/Microplastic/*/fulltext.xml\n",
            "  0% 0/10 [00:00<?, ?it/s]\u001b[1;30mINFO:\u001b[0m Wrote the pdf file for PMC11139942\n",
            " 10% 1/10 [00:02<00:18,  2.08s/it]\u001b[1;30mINFO:\u001b[0m Wrote the pdf file for PMC11120006\n",
            " 20% 2/10 [00:03<00:15,  1.96s/it]\u001b[1;30mINFO:\u001b[0m Wrote the pdf file for PMC11125818\n",
            " 30% 3/10 [00:06<00:15,  2.16s/it]\u001b[1;30mINFO:\u001b[0m Wrote the pdf file for PMC11140707\n",
            " 40% 4/10 [00:10<00:16,  2.80s/it]\u001b[1;30mINFO:\u001b[0m Wrote the pdf file for PMC11079099\n",
            " 50% 5/10 [00:11<00:11,  2.35s/it]\u001b[1;30mINFO:\u001b[0m Wrote the pdf file for PMC11092166\n",
            "\u001b[1;30mINFO:\u001b[0m Wrote the pdf file for PMC11092166\n",
            " 60% 6/10 [00:23<00:21,  5.48s/it]\u001b[1;30mINFO:\u001b[0m Wrote the pdf file for PMC11085246\n",
            " 70% 7/10 [00:27<00:15,  5.05s/it]\u001b[1;30mINFO:\u001b[0m Wrote the pdf file for PMC11079410\n",
            " 80% 8/10 [00:31<00:09,  4.78s/it]\u001b[1;30mINFO:\u001b[0m Wrote the pdf file for PMC11053188\n",
            " 90% 9/10 [00:39<00:05,  5.86s/it]\u001b[1;30mINFO:\u001b[0m Wrote the pdf file for PMC11002670\n",
            "100% 10/10 [00:42<00:00,  4.23s/it]\n"
          ]
        }
      ],
      "source": [
        "!pygetpapers --query \"Microplastic\" -x -p -k 10 --output Microplastic"
      ]
    },
    {
      "cell_type": "code",
      "execution_count": null,
      "metadata": {
        "colab": {
          "background_save": true
        },
        "id": "jipYr6bJ9Lsl",
        "outputId": "15330db7-6065-4a2c-da9c-58f8270833b0"
      },
      "outputs": [
        {
          "name": "stdout",
          "output_type": "stream",
          "text": [
            "\u001b[1;30mINFO:\u001b[0m Total Hits are 147144\n",
            "10it [00:00, 84222.97it/s]\n",
            "\u001b[1;30mINFO:\u001b[0m Saving XML files to /content/Marine_life/*/fulltext.xml\n",
            "  0% 0/10 [00:00<?, ?it/s]\u001b[1;30mINFO:\u001b[0m Wrote the pdf file for PMC10952404\n",
            "\u001b[1;30mINFO:\u001b[0m Wrote the pdf file for PMC10952404\n",
            " 10% 1/10 [00:02<00:25,  2.87s/it]\u001b[1;30mINFO:\u001b[0m Wrote the pdf file for PMC9576104\n",
            "\u001b[1;30mINFO:\u001b[0m Wrote the pdf file for PMC9576104\n",
            " 20% 2/10 [00:06<00:27,  3.46s/it]\u001b[1;30mINFO:\u001b[0m Wrote the pdf file for PMC9617844\n",
            "\u001b[1;30mINFO:\u001b[0m Wrote the pdf file for PMC9617844\n",
            " 30% 3/10 [00:13<00:34,  4.87s/it]\u001b[1;30mINFO:\u001b[0m Wrote the pdf file for PMC9855070\n",
            "\u001b[1;30mINFO:\u001b[0m Wrote the pdf file for PMC9855070\n",
            " 40% 4/10 [00:16<00:25,  4.28s/it]\u001b[1;30mINFO:\u001b[0m Wrote the pdf file for PMC8900478\n",
            "\u001b[1;30mINFO:\u001b[0m Wrote the pdf file for PMC8900478\n",
            " 50% 5/10 [00:32<00:42,  8.55s/it]\u001b[1;30mINFO:\u001b[0m Wrote the pdf file for PMC9923492\n",
            " 60% 6/10 [00:39<00:31,  7.79s/it]\u001b[1;30mINFO:\u001b[0m Wrote the pdf file for PMC9269963\n",
            "\u001b[1;30mINFO:\u001b[0m Wrote the pdf file for PMC9269963\n",
            " 70% 7/10 [00:45<00:21,  7.17s/it]\u001b[1;30mINFO:\u001b[0m Wrote the pdf file for PMC10077225\n",
            "\u001b[1;30mINFO:\u001b[0m Wrote the pdf file for PMC10077225\n",
            " 80% 8/10 [00:52<00:14,  7.16s/it]\u001b[1;30mINFO:\u001b[0m Wrote the pdf file for PMC8364114\n",
            " 90% 9/10 [00:57<00:06,  6.67s/it]\u001b[1;30mINFO:\u001b[0m Wrote the pdf file for PMC8146595\n",
            "\u001b[1;30mINFO:\u001b[0m Wrote the pdf file for PMC8146595\n",
            "100% 10/10 [01:00<00:00,  6.03s/it]\n"
          ]
        }
      ],
      "source": [
        "!pygetpapers --query \"  Marine life\" -x -p -k 10 --output Marine_life"
      ]
    },
    {
      "cell_type": "code",
      "execution_count": null,
      "metadata": {
        "colab": {
          "background_save": true
        },
        "id": "mvnbkbX89MUS",
        "outputId": "66c5844c-d59c-4b16-b430-2a9e22e4403d"
      },
      "outputs": [
        {
          "name": "stdout",
          "output_type": "stream",
          "text": [
            "\u001b[1;30mINFO:\u001b[0m Total Hits are 0\n",
            "\u001b[1;30mWARNING:\u001b[0m \u001b[33mCould not find more papers\u001b[0m\n",
            "Traceback (most recent call last):\n",
            "  File \"/usr/local/bin/pygetpapers\", line 8, in <module>\n",
            "    sys.exit(main())\n",
            "  File \"/usr/local/lib/python3.10/dist-packages/pygetpapers/pygetpapers.py\", line 537, in main\n",
            "    callpygetpapers.create_argparser()\n",
            "  File \"/usr/local/lib/python3.10/dist-packages/pygetpapers/pygetpapers.py\", line 530, in create_argparser\n",
            "    self.runs_pygetpapers_for_given_args(self.query_namespace)\n",
            "  File \"/usr/local/lib/python3.10/dist-packages/pygetpapers/pygetpapers.py\", line 312, in runs_pygetpapers_for_given_args\n",
            "    api_handler.check_query_logic_and_run()\n",
            "  File \"/usr/local/lib/python3.10/dist-packages/pygetpapers/pygetpapers.py\", line 204, in check_query_logic_and_run\n",
            "    self.api.apipaperdownload(self.query_namespace)\n",
            "  File \"/usr/local/lib/python3.10/dist-packages/pygetpapers/repository/europe_pmc.py\", line 324, in apipaperdownload\n",
            "    self.run_eupmc_query_and_get_metadata(\n",
            "  File \"/usr/local/lib/python3.10/dist-packages/pygetpapers/repository/europe_pmc.py\", line 289, in run_eupmc_query_and_get_metadata\n",
            "    metadata_dictionary = self.query(\n",
            "  File \"/usr/local/lib/python3.10/dist-packages/pygetpapers/repository/europe_pmc.py\", line 125, in query\n",
            "    list_of_paper_metadata = self._remove_extra_papers_from_list(cutoff_size, list_of_paper_metadata)\n",
            "UnboundLocalError: local variable 'list_of_paper_metadata' referenced before assignment\n"
          ]
        }
      ],
      "source": [
        "!pygetpapers --query \"Ecosysten degradation\" -x -p -k 10 --output Ecosysten_degradation"
      ]
    },
    {
      "cell_type": "code",
      "execution_count": null,
      "metadata": {
        "colab": {
          "background_save": true
        },
        "id": "KqsCm6_w9fxu",
        "outputId": "8547be9e-fba5-49d4-e2ae-9eb255ee689e"
      },
      "outputs": [
        {
          "name": "stdout",
          "output_type": "stream",
          "text": [
            "\u001b[1;30mINFO:\u001b[0m Total Hits are 65462\n",
            "10it [00:00, 31347.56it/s]\n",
            "\u001b[1;30mINFO:\u001b[0m Saving XML files to /content/Greenhouse_gas/*/fulltext.xml\n",
            "  0% 0/10 [00:00<?, ?it/s]\u001b[1;30mINFO:\u001b[0m Wrote the pdf file for PMC11079253\n",
            " 10% 1/10 [00:05<00:50,  5.57s/it]\u001b[1;30mINFO:\u001b[0m Wrote the pdf file for PMC11097724\n",
            " 20% 2/10 [00:15<01:03,  7.97s/it]\u001b[1;30mINFO:\u001b[0m Wrote the pdf file for PMC11154951\n",
            "\u001b[1;30mINFO:\u001b[0m Wrote the pdf file for PMC11154951\n",
            " 30% 3/10 [00:17<00:39,  5.58s/it]\u001b[1;30mINFO:\u001b[0m Wrote the pdf file for PMC11102158\n",
            "\u001b[1;30mINFO:\u001b[0m Wrote the pdf file for PMC11102158\n",
            " 40% 4/10 [00:25<00:37,  6.22s/it]\u001b[1;30mINFO:\u001b[0m Wrote the pdf file for PMC11097397\n",
            " 50% 5/10 [00:27<00:24,  4.86s/it]\u001b[1;30mINFO:\u001b[0m Wrote the pdf file for PMC11144335\n",
            " 60% 6/10 [00:30<00:17,  4.34s/it]\u001b[1;30mINFO:\u001b[0m Wrote the pdf file for PMC10965928\n",
            "\u001b[1;30mINFO:\u001b[0m Wrote the pdf file for PMC10965928\n",
            " 70% 7/10 [00:55<00:33, 11.06s/it]\u001b[1;30mINFO:\u001b[0m Wrote the pdf file for PMC10830620\n",
            " 80% 8/10 [00:57<00:15,  7.97s/it]\u001b[1;30mINFO:\u001b[0m Wrote the pdf file for PMC11064220\n",
            "\u001b[1;30mINFO:\u001b[0m Wrote the pdf file for PMC11064220\n",
            " 90% 9/10 [01:00<00:06,  6.51s/it]\u001b[1;30mINFO:\u001b[0m Wrote the pdf file for PMC11137687\n",
            "100% 10/10 [01:08<00:00,  6.83s/it]\n"
          ]
        }
      ],
      "source": [
        "!pygetpapers --query \"Greenhouse gas\" -x -p -k 10 --output Greenhouse_gas"
      ]
    },
    {
      "cell_type": "code",
      "execution_count": null,
      "metadata": {
        "colab": {
          "background_save": true
        },
        "id": "xBuiDQ-c_iQE",
        "outputId": "13dab40f-c4c6-4fd8-ec19-78f24ba3c487"
      },
      "outputs": [
        {
          "name": "stdout",
          "output_type": "stream",
          "text": [
            "\u001b[1;30mINFO:\u001b[0m Total Hits are 39\n",
            "\u001b[1;30mWARNING:\u001b[0m \u001b[33mCould not find more papers\u001b[0m\n",
            "10it [00:00, 94679.55it/s]\n",
            "\u001b[1;30mINFO:\u001b[0m Saving XML files to /content/Sustainablity/*/fulltext.xml\n",
            "  0% 0/10 [00:00<?, ?it/s]\u001b[1;30mINFO:\u001b[0m Wrote the pdf file for PMC10906413\n",
            " 10% 1/10 [00:01<00:14,  1.65s/it]\u001b[1;30mINFO:\u001b[0m Wrote the pdf file for PMC9357975\n",
            "\u001b[1;30mINFO:\u001b[0m Wrote the pdf file for PMC9357975\n",
            " 20% 2/10 [00:15<01:10,  8.81s/it]\u001b[1;30mINFO:\u001b[0m Wrote the pdf file for PMC9491258\n",
            " 30% 3/10 [00:18<00:43,  6.20s/it]\u001b[1;30mINFO:\u001b[0m Wrote the pdf file for PMC5598066\n",
            "\u001b[1;30mINFO:\u001b[0m Wrote the pdf file for PMC5598066\n",
            " 40% 4/10 [00:24<00:37,  6.19s/it]\u001b[1;30mINFO:\u001b[0m Wrote the pdf file for PMC9647360\n",
            " 50% 5/10 [00:31<00:32,  6.46s/it]\u001b[1;30mINFO:\u001b[0m Wrote the pdf file for PMC10852341\n",
            "\u001b[1;30mINFO:\u001b[0m Wrote the pdf file for PMC10852341\n",
            " 60% 6/10 [00:36<00:23,  5.93s/it]\u001b[1;30mINFO:\u001b[0m Wrote the pdf file for PMC9395539\n",
            "\u001b[1;30mINFO:\u001b[0m Wrote the pdf file for PMC9395539\n",
            " 70% 7/10 [00:41<00:16,  5.59s/it]\u001b[1;30mINFO:\u001b[0m Wrote the pdf file for PMC9108434\n",
            "\u001b[1;30mINFO:\u001b[0m Wrote the pdf file for PMC9108434\n",
            " 90% 9/10 [00:47<00:03,  3.95s/it]\u001b[1;30mINFO:\u001b[0m Wrote the pdf file for PMC9801700\n",
            "100% 10/10 [01:04<00:00,  6.47s/it]\n"
          ]
        }
      ],
      "source": [
        "!pygetpapers --query \"Sustainablity\" -x  -p -k 10 --output Sustainablity"
      ]
    },
    {
      "cell_type": "code",
      "execution_count": null,
      "metadata": {
        "colab": {
          "background_save": true
        },
        "id": "hfhY_wEVCU9x",
        "outputId": "a3c515e1-6b13-4a51-82c9-a4c734d17a31"
      },
      "outputs": [
        {
          "name": "stdout",
          "output_type": "stream",
          "text": [
            "Collecting docanalysis\n",
            "  Downloading docanalysis-0.3.0.tar.gz (37 kB)\n",
            "  Preparing metadata (setup.py) ... \u001b[?25l\u001b[?25hdone\n",
            "Collecting abbreviations (from docanalysis)\n",
            "  Downloading abbreviations-0.2.5-py3-none-any.whl (5.7 kB)\n",
            "Collecting beautifulsoup4==4.10.0 (from docanalysis)\n",
            "  Downloading beautifulsoup4-4.10.0-py3-none-any.whl (97 kB)\n",
            "\u001b[2K     \u001b[90m━━━━━━━━━━━━━━━━━━━━━━━━━━━━━━━━━━━━━━━━\u001b[0m \u001b[32m97.4/97.4 kB\u001b[0m \u001b[31m5.1 MB/s\u001b[0m eta \u001b[36m0:00:00\u001b[0m\n",
            "\u001b[?25hCollecting braceexpand==0.1.7 (from docanalysis)\n",
            "  Downloading braceexpand-0.1.7-py2.py3-none-any.whl (5.9 kB)\n",
            "Requirement already satisfied: coloredlogs==15.0.1 in /usr/local/lib/python3.10/dist-packages (from docanalysis) (15.0.1)\n",
            "Collecting ConfigArgParse==1.5.3 (from docanalysis)\n",
            "  Downloading ConfigArgParse-1.5.3-py3-none-any.whl (20 kB)\n",
            "Collecting lxml==4.7.1 (from docanalysis)\n",
            "  Downloading lxml-4.7.1-cp310-cp310-manylinux_2_17_x86_64.manylinux2014_x86_64.manylinux_2_24_x86_64.whl (6.9 MB)\n",
            "\u001b[2K     \u001b[90m━━━━━━━━━━━━━━━━━━━━━━━━━━━━━━━━━━━━━━━━\u001b[0m \u001b[32m6.9/6.9 MB\u001b[0m \u001b[31m30.0 MB/s\u001b[0m eta \u001b[36m0:00:00\u001b[0m\n",
            "\u001b[?25hCollecting nltk==3.6.7 (from docanalysis)\n",
            "  Downloading nltk-3.6.7-py3-none-any.whl (1.5 MB)\n",
            "\u001b[2K     \u001b[90m━━━━━━━━━━━━━━━━━━━━━━━━━━━━━━━━━━━━━━━━\u001b[0m \u001b[32m1.5/1.5 MB\u001b[0m \u001b[31m51.9 MB/s\u001b[0m eta \u001b[36m0:00:00\u001b[0m\n",
            "\u001b[?25hCollecting pandas==1.3.4 (from docanalysis)\n",
            "  Downloading pandas-1.3.4-cp310-cp310-manylinux_2_17_x86_64.manylinux2014_x86_64.whl (11.5 MB)\n",
            "\u001b[2K     \u001b[90m━━━━━━━━━━━━━━━━━━━━━━━━━━━━━━━━━━━━━━━━\u001b[0m \u001b[32m11.5/11.5 MB\u001b[0m \u001b[31m51.1 MB/s\u001b[0m eta \u001b[36m0:00:00\u001b[0m\n",
            "\u001b[?25hRequirement already satisfied: pygetpapers in /usr/local/lib/python3.10/dist-packages (from docanalysis) (1.2.5)\n",
            "Collecting pytest==6.2.5 (from docanalysis)\n",
            "  Downloading pytest-6.2.5-py3-none-any.whl (280 kB)\n",
            "\u001b[2K     \u001b[90m━━━━━━━━━━━━━━━━━━━━━━━━━━━━━━━━━━━━━━━━\u001b[0m \u001b[32m280.7/280.7 kB\u001b[0m \u001b[31m28.3 MB/s\u001b[0m eta \u001b[36m0:00:00\u001b[0m\n",
            "\u001b[?25hCollecting setuptools==60.3.1 (from docanalysis)\n",
            "  Downloading setuptools-60.3.1-py3-none-any.whl (953 kB)\n",
            "\u001b[2K     \u001b[90m━━━━━━━━━━━━━━━━━━━━━━━━━━━━━━━━━━━━━━━━\u001b[0m \u001b[32m954.0/954.0 kB\u001b[0m \u001b[31m49.2 MB/s\u001b[0m eta \u001b[36m0:00:00\u001b[0m\n",
            "\u001b[?25hCollecting spacy==3.0.7 (from docanalysis)\n",
            "  Downloading spacy-3.0.7.tar.gz (987 kB)\n",
            "\u001b[2K     \u001b[90m━━━━━━━━━━━━━━━━━━━━━━━━━━━━━━━━━━━━━━━━\u001b[0m \u001b[32m988.0/988.0 kB\u001b[0m \u001b[31m61.5 MB/s\u001b[0m eta \u001b[36m0:00:00\u001b[0m\n",
            "\u001b[?25h  Installing build dependencies ... \u001b[?25l\u001b[?25hdone\n",
            "  Getting requirements to build wheel ... \u001b[?25l\u001b[?25hdone\n",
            "  Preparing metadata (pyproject.toml) ... \u001b[?25l\u001b[?25hdone\n",
            "Collecting tkinterweb==3.10.7 (from docanalysis)\n",
            "  Downloading tkinterweb-3.10.7.tar.gz (1.1 MB)\n",
            "\u001b[2K     \u001b[90m━━━━━━━━━━━━━━━━━━━━━━━━━━━━━━━━━━━━━━━━\u001b[0m \u001b[32m1.1/1.1 MB\u001b[0m \u001b[31m10.4 MB/s\u001b[0m eta \u001b[36m0:00:00\u001b[0m\n",
            "\u001b[?25h  Preparing metadata (setup.py) ... \u001b[?25l\u001b[?25hdone\n",
            "Collecting tqdm==4.62.3 (from docanalysis)\n",
            "  Downloading tqdm-4.62.3-py2.py3-none-any.whl (76 kB)\n",
            "\u001b[2K     \u001b[90m━━━━━━━━━━━━━━━━━━━━━━━━━━━━━━━━━━━━━━━━\u001b[0m \u001b[32m76.2/76.2 kB\u001b[0m \u001b[31m11.2 MB/s\u001b[0m eta \u001b[36m0:00:00\u001b[0m\n",
            "\u001b[?25hRequirement already satisfied: soupsieve>1.2 in /usr/local/lib/python3.10/dist-packages (from beautifulsoup4==4.10.0->docanalysis) (2.5)\n",
            "Requirement already satisfied: humanfriendly>=9.1 in /usr/local/lib/python3.10/dist-packages (from coloredlogs==15.0.1->docanalysis) (10.0)\n",
            "Requirement already satisfied: click in /usr/local/lib/python3.10/dist-packages (from nltk==3.6.7->docanalysis) (8.1.7)\n",
            "Requirement already satisfied: joblib in /usr/local/lib/python3.10/dist-packages (from nltk==3.6.7->docanalysis) (1.4.2)\n",
            "Requirement already satisfied: regex>=2021.8.3 in /usr/local/lib/python3.10/dist-packages (from nltk==3.6.7->docanalysis) (2024.5.15)\n",
            "Requirement already satisfied: python-dateutil>=2.7.3 in /usr/local/lib/python3.10/dist-packages (from pandas==1.3.4->docanalysis) (2.8.2)\n",
            "Requirement already satisfied: pytz>=2017.3 in /usr/local/lib/python3.10/dist-packages (from pandas==1.3.4->docanalysis) (2023.4)\n",
            "Requirement already satisfied: numpy>=1.21.0 in /usr/local/lib/python3.10/dist-packages (from pandas==1.3.4->docanalysis) (1.25.2)\n",
            "Requirement already satisfied: attrs>=19.2.0 in /usr/local/lib/python3.10/dist-packages (from pytest==6.2.5->docanalysis) (23.2.0)\n",
            "Requirement already satisfied: iniconfig in /usr/local/lib/python3.10/dist-packages (from pytest==6.2.5->docanalysis) (2.0.0)\n",
            "Requirement already satisfied: packaging in /usr/local/lib/python3.10/dist-packages (from pytest==6.2.5->docanalysis) (24.1)\n",
            "Requirement already satisfied: pluggy<2.0,>=0.12 in /usr/local/lib/python3.10/dist-packages (from pytest==6.2.5->docanalysis) (1.5.0)\n",
            "Collecting py>=1.8.2 (from pytest==6.2.5->docanalysis)\n",
            "  Downloading py-1.11.0-py2.py3-none-any.whl (98 kB)\n",
            "\u001b[2K     \u001b[90m━━━━━━━━━━━━━━━━━━━━━━━━━━━━━━━━━━━━━━━━\u001b[0m \u001b[32m98.7/98.7 kB\u001b[0m \u001b[31m13.1 MB/s\u001b[0m eta \u001b[36m0:00:00\u001b[0m\n",
            "\u001b[?25hRequirement already satisfied: toml in /usr/local/lib/python3.10/dist-packages (from pytest==6.2.5->docanalysis) (0.10.2)\n",
            "Requirement already satisfied: spacy-legacy<3.1.0,>=3.0.5 in /usr/local/lib/python3.10/dist-packages (from spacy==3.0.7->docanalysis) (3.0.12)\n",
            "Requirement already satisfied: murmurhash<1.1.0,>=0.28.0 in /usr/local/lib/python3.10/dist-packages (from spacy==3.0.7->docanalysis) (1.0.10)\n",
            "Requirement already satisfied: cymem<2.1.0,>=2.0.2 in /usr/local/lib/python3.10/dist-packages (from spacy==3.0.7->docanalysis) (2.0.8)\n",
            "Requirement already satisfied: preshed<3.1.0,>=3.0.2 in /usr/local/lib/python3.10/dist-packages (from spacy==3.0.7->docanalysis) (3.0.9)\n",
            "Collecting thinc<8.1.0,>=8.0.3 (from spacy==3.0.7->docanalysis)\n",
            "  Using cached thinc-8.0.17-cp310-cp310-manylinux_2_17_x86_64.manylinux2014_x86_64.whl (659 kB)\n",
            "Requirement already satisfied: blis<0.8.0,>=0.4.0 in /usr/local/lib/python3.10/dist-packages (from spacy==3.0.7->docanalysis) (0.7.11)\n",
            "Collecting wasabi<1.1.0,>=0.8.1 (from spacy==3.0.7->docanalysis)\n",
            "  Using cached wasabi-0.10.1-py3-none-any.whl (26 kB)\n",
            "Requirement already satisfied: srsly<3.0.0,>=2.4.1 in /usr/local/lib/python3.10/dist-packages (from spacy==3.0.7->docanalysis) (2.4.8)\n",
            "Requirement already satisfied: catalogue<2.1.0,>=2.0.4 in /usr/local/lib/python3.10/dist-packages (from spacy==3.0.7->docanalysis) (2.0.10)\n",
            "Collecting typer<0.4.0,>=0.3.0 (from spacy==3.0.7->docanalysis)\n",
            "  Downloading typer-0.3.2-py3-none-any.whl (21 kB)\n",
            "Collecting pathy>=0.3.5 (from spacy==3.0.7->docanalysis)\n",
            "  Using cached pathy-0.11.0-py3-none-any.whl (47 kB)\n",
            "Requirement already satisfied: requests<3.0.0,>=2.13.0 in /usr/local/lib/python3.10/dist-packages (from spacy==3.0.7->docanalysis) (2.31.0)\n",
            "Collecting pydantic!=1.8,!=1.8.1,<1.9.0,>=1.7.4 (from spacy==3.0.7->docanalysis)\n",
            "  Using cached pydantic-1.8.2-py3-none-any.whl (126 kB)\n",
            "Requirement already satisfied: jinja2 in /usr/local/lib/python3.10/dist-packages (from spacy==3.0.7->docanalysis) (3.1.4)\n",
            "Requirement already satisfied: pillow in /usr/local/lib/python3.10/dist-packages (from tkinterweb==3.10.7->docanalysis) (9.4.0)\n",
            "Requirement already satisfied: xmltodict in /usr/local/lib/python3.10/dist-packages (from pygetpapers->docanalysis) (0.13.0)\n",
            "Requirement already satisfied: habanero in /usr/local/lib/python3.10/dist-packages (from pygetpapers->docanalysis) (1.2.6)\n",
            "Requirement already satisfied: arxiv in /usr/local/lib/python3.10/dist-packages (from pygetpapers->docanalysis) (2.1.0)\n",
            "Requirement already satisfied: dict2xml in /usr/local/lib/python3.10/dist-packages (from pygetpapers->docanalysis) (1.7.5)\n",
            "Collecting smart-open<7.0.0,>=5.2.1 (from pathy>=0.3.5->spacy==3.0.7->docanalysis)\n",
            "  Using cached smart_open-6.4.0-py3-none-any.whl (57 kB)\n",
            "Collecting pathlib-abc==0.1.1 (from pathy>=0.3.5->spacy==3.0.7->docanalysis)\n",
            "  Using cached pathlib_abc-0.1.1-py3-none-any.whl (23 kB)\n",
            "Requirement already satisfied: typing-extensions>=3.7.4.3 in /usr/local/lib/python3.10/dist-packages (from pydantic!=1.8,!=1.8.1,<1.9.0,>=1.7.4->spacy==3.0.7->docanalysis) (4.12.2)\n",
            "Requirement already satisfied: six>=1.5 in /usr/local/lib/python3.10/dist-packages (from python-dateutil>=2.7.3->pandas==1.3.4->docanalysis) (1.16.0)\n",
            "Requirement already satisfied: charset-normalizer<4,>=2 in /usr/local/lib/python3.10/dist-packages (from requests<3.0.0,>=2.13.0->spacy==3.0.7->docanalysis) (3.3.2)\n",
            "Requirement already satisfied: idna<4,>=2.5 in /usr/local/lib/python3.10/dist-packages (from requests<3.0.0,>=2.13.0->spacy==3.0.7->docanalysis) (3.7)\n",
            "Requirement already satisfied: urllib3<3,>=1.21.1 in /usr/local/lib/python3.10/dist-packages (from requests<3.0.0,>=2.13.0->spacy==3.0.7->docanalysis) (2.0.7)\n",
            "Requirement already satisfied: certifi>=2017.4.17 in /usr/local/lib/python3.10/dist-packages (from requests<3.0.0,>=2.13.0->spacy==3.0.7->docanalysis) (2024.6.2)\n",
            "Collecting click (from nltk==3.6.7->docanalysis)\n",
            "  Downloading click-7.1.2-py2.py3-none-any.whl (82 kB)\n",
            "\u001b[2K     \u001b[90m━━━━━━━━━━━━━━━━━━━━━━━━━━━━━━━━━━━━━━━━\u001b[0m \u001b[32m82.8/82.8 kB\u001b[0m \u001b[31m11.6 MB/s\u001b[0m eta \u001b[36m0:00:00\u001b[0m\n",
            "\u001b[?25hRequirement already satisfied: feedparser==6.0.10 in /usr/local/lib/python3.10/dist-packages (from arxiv->pygetpapers->docanalysis) (6.0.10)\n",
            "Requirement already satisfied: sgmllib3k in /usr/local/lib/python3.10/dist-packages (from feedparser==6.0.10->arxiv->pygetpapers->docanalysis) (1.0.0)\n",
            "Requirement already satisfied: MarkupSafe>=2.0 in /usr/local/lib/python3.10/dist-packages (from jinja2->spacy==3.0.7->docanalysis) (2.1.5)\n",
            "Building wheels for collected packages: docanalysis, spacy, tkinterweb\n",
            "  Building wheel for docanalysis (setup.py) ... \u001b[?25l\u001b[?25hdone\n",
            "  Created wheel for docanalysis: filename=docanalysis-0.3.0-py3-none-any.whl size=34769 sha256=1b6cf51870e68531d43a6855925ba3f7b3d2a4ba86e8b864eec6c0517e7d450d\n",
            "  Stored in directory: /root/.cache/pip/wheels/dc/92/b8/f09bf8a5f6903903ddbdba7c2c2d090ad1b1cc6b0e9212dca7\n",
            "  Building wheel for spacy (pyproject.toml) ... \u001b[?25l\u001b[?25hdone\n",
            "  Created wheel for spacy: filename=spacy-3.0.7-cp310-cp310-linux_x86_64.whl size=25938241 sha256=09c86aabb412113f1e0081e01e0b3df1bb51e7f4f0d65369c7f7bfd7c55eddf2\n",
            "  Stored in directory: /root/.cache/pip/wheels/61/af/8f/215a6e6c2ced660e9324d651f73ea90bdbb1408c748a7e0a9f\n",
            "  Building wheel for tkinterweb (setup.py) ... \u001b[?25l\u001b[?25hdone\n",
            "  Created wheel for tkinterweb: filename=tkinterweb-3.10.7-py3-none-any.whl size=1063339 sha256=1b40da33c1b29c55cc553a4f75aadc7a4a11888a07c4a50f6c289154dad6111f\n",
            "  Stored in directory: /root/.cache/pip/wheels/be/cb/e9/ab965ddd9fbe72d1175820f135d18d5ea669ea4e5c7d81297b\n",
            "Successfully built docanalysis spacy tkinterweb\n",
            "Installing collected packages: wasabi, braceexpand, tqdm, tkinterweb, smart-open, setuptools, pydantic, py, pathlib-abc, lxml, ConfigArgParse, click, beautifulsoup4, abbreviations, typer, thinc, pytest, pandas, nltk, pathy, spacy, docanalysis\n",
            "  Attempting uninstall: wasabi\n",
            "    Found existing installation: wasabi 1.1.3\n",
            "    Uninstalling wasabi-1.1.3:\n",
            "      Successfully uninstalled wasabi-1.1.3\n",
            "  Attempting uninstall: tqdm\n",
            "    Found existing installation: tqdm 4.66.4\n",
            "    Uninstalling tqdm-4.66.4:\n",
            "      Successfully uninstalled tqdm-4.66.4\n",
            "  Attempting uninstall: smart-open\n",
            "    Found existing installation: smart-open 7.0.4\n",
            "    Uninstalling smart-open-7.0.4:\n",
            "      Successfully uninstalled smart-open-7.0.4\n",
            "  Attempting uninstall: setuptools\n",
            "    Found existing installation: setuptools 67.7.2\n",
            "    Uninstalling setuptools-67.7.2:\n",
            "      Successfully uninstalled setuptools-67.7.2\n",
            "  Attempting uninstall: pydantic\n",
            "    Found existing installation: pydantic 2.7.3\n",
            "    Uninstalling pydantic-2.7.3:\n",
            "      Successfully uninstalled pydantic-2.7.3\n",
            "  Attempting uninstall: lxml\n",
            "    Found existing installation: lxml 4.9.4\n",
            "    Uninstalling lxml-4.9.4:\n",
            "      Successfully uninstalled lxml-4.9.4\n",
            "  Attempting uninstall: ConfigArgParse\n",
            "    Found existing installation: ConfigArgParse 1.7\n",
            "    Uninstalling ConfigArgParse-1.7:\n",
            "      Successfully uninstalled ConfigArgParse-1.7\n",
            "  Attempting uninstall: click\n",
            "    Found existing installation: click 8.1.7\n",
            "    Uninstalling click-8.1.7:\n",
            "      Successfully uninstalled click-8.1.7\n",
            "  Attempting uninstall: beautifulsoup4\n",
            "    Found existing installation: beautifulsoup4 4.12.3\n",
            "    Uninstalling beautifulsoup4-4.12.3:\n",
            "      Successfully uninstalled beautifulsoup4-4.12.3\n",
            "  Attempting uninstall: typer\n",
            "    Found existing installation: typer 0.12.3\n",
            "    Uninstalling typer-0.12.3:\n",
            "      Successfully uninstalled typer-0.12.3\n",
            "  Attempting uninstall: thinc\n",
            "    Found existing installation: thinc 8.2.4\n",
            "    Uninstalling thinc-8.2.4:\n",
            "      Successfully uninstalled thinc-8.2.4\n",
            "  Attempting uninstall: pytest\n",
            "    Found existing installation: pytest 7.4.4\n",
            "    Uninstalling pytest-7.4.4:\n",
            "      Successfully uninstalled pytest-7.4.4\n",
            "  Attempting uninstall: pandas\n",
            "    Found existing installation: pandas 2.0.3\n",
            "    Uninstalling pandas-2.0.3:\n",
            "      Successfully uninstalled pandas-2.0.3\n",
            "  Attempting uninstall: nltk\n",
            "    Found existing installation: nltk 3.8.1\n",
            "    Uninstalling nltk-3.8.1:\n",
            "      Successfully uninstalled nltk-3.8.1\n",
            "  Attempting uninstall: spacy\n",
            "    Found existing installation: spacy 3.7.5\n",
            "    Uninstalling spacy-3.7.5:\n",
            "      Successfully uninstalled spacy-3.7.5\n",
            "\u001b[31mERROR: pip's dependency resolver does not currently take into account all the packages that are installed. This behaviour is the source of the following dependency conflicts.\n",
            "ipython 7.34.0 requires jedi>=0.16, which is not installed.\n",
            "flask 2.2.5 requires click>=8.0, but you have click 7.1.2 which is incompatible.\n",
            "bigframes 1.8.0 requires pandas>=1.5.0, but you have pandas 1.3.4 which is incompatible.\n",
            "cudf-cu12 24.4.1 requires pandas<2.2.2dev0,>=2.0, but you have pandas 1.3.4 which is incompatible.\n",
            "cvxpy 1.3.4 requires setuptools>65.5.1, but you have setuptools 60.3.1 which is incompatible.\n",
            "dask 2023.8.1 requires click>=8.0, but you have click 7.1.2 which is incompatible.\n",
            "distributed 2023.8.1 requires click>=8.0, but you have click 7.1.2 which is incompatible.\n",
            "dopamine-rl 4.0.9 requires tqdm>=4.64.1, but you have tqdm 4.62.3 which is incompatible.\n",
            "en-core-web-sm 3.7.1 requires spacy<3.8.0,>=3.7.2, but you have spacy 3.0.7 which is incompatible.\n",
            "fiona 1.9.6 requires click~=8.0, but you have click 7.1.2 which is incompatible.\n",
            "google-colab 1.0.0 requires pandas==2.0.3, but you have pandas 1.3.4 which is incompatible.\n",
            "inflect 7.0.0 requires pydantic>=1.9.1, but you have pydantic 1.8.2 which is incompatible.\n",
            "mizani 0.9.3 requires pandas>=1.3.5, but you have pandas 1.3.4 which is incompatible.\n",
            "pip-tools 6.13.0 requires click>=8, but you have click 7.1.2 which is incompatible.\n",
            "plotnine 0.12.4 requires pandas>=1.5.0, but you have pandas 1.3.4 which is incompatible.\n",
            "statsmodels 0.14.2 requires pandas!=2.1.0,>=1.4, but you have pandas 1.3.4 which is incompatible.\n",
            "xarray 2023.7.0 requires pandas>=1.4, but you have pandas 1.3.4 which is incompatible.\n",
            "yfinance 0.2.40 requires beautifulsoup4>=4.11.1, but you have beautifulsoup4 4.10.0 which is incompatible.\n",
            "yfinance 0.2.40 requires lxml>=4.9.1, but you have lxml 4.7.1 which is incompatible.\u001b[0m\u001b[31m\n",
            "\u001b[0mSuccessfully installed ConfigArgParse-1.5.3 abbreviations-0.2.5 beautifulsoup4-4.10.0 braceexpand-0.1.7 click-7.1.2 docanalysis-0.3.0 lxml-4.7.1 nltk-3.6.7 pandas-1.3.4 pathlib-abc-0.1.1 pathy-0.11.0 py-1.11.0 pydantic-1.8.2 pytest-6.2.5 setuptools-60.3.1 smart-open-6.4.0 spacy-3.0.7 thinc-8.0.17 tkinterweb-3.10.7 tqdm-4.62.3 typer-0.3.2 wasabi-0.10.1\n"
          ]
        },
        {
          "data": {
            "application/vnd.colab-display-data+json": {
              "id": "e90ac2b9f2f147d4af71be6ae2e0eb82",
              "pip_warning": {
                "packages": [
                  "_distutils_hack",
                  "pkg_resources",
                  "setuptools"
                ]
              }
            }
          },
          "metadata": {},
          "output_type": "display_data"
        }
      ],
      "source": [
        "!pip install docanalysis"
      ]
    },
    {
      "cell_type": "code",
      "execution_count": null,
      "metadata": {
        "colab": {
          "background_save": true
        },
        "id": "qxenavnKGHzS",
        "outputId": "5a7779f5-b03c-40e8-ac2c-9663776678c3"
      },
      "outputs": [
        {
          "name": "stdout",
          "output_type": "stream",
          "text": [
            "2024-06-20 16:41:58.693320: E external/local_xla/xla/stream_executor/cuda/cuda_dnn.cc:9261] Unable to register cuDNN factory: Attempting to register factory for plugin cuDNN when one has already been registered\n",
            "2024-06-20 16:41:58.693401: E external/local_xla/xla/stream_executor/cuda/cuda_fft.cc:607] Unable to register cuFFT factory: Attempting to register factory for plugin cuFFT when one has already been registered\n",
            "2024-06-20 16:41:58.811621: E external/local_xla/xla/stream_executor/cuda/cuda_blas.cc:1515] Unable to register cuBLAS factory: Attempting to register factory for plugin cuBLAS when one has already been registered\n",
            "2024-06-20 16:41:58.826263: I tensorflow/core/platform/cpu_feature_guard.cc:182] This TensorFlow binary is optimized to use available CPU instructions in performance-critical operations.\n",
            "To enable the following instructions: AVX2 FMA, in other operations, rebuild TensorFlow with the appropriate compiler flags.\n",
            "2024-06-20 16:42:00.251883: W tensorflow/compiler/tf2tensorrt/utils/py_utils.cc:38] TF-TRT Warning: Could not find TensorRT\n",
            "/usr/local/lib/python3.10/dist-packages/_distutils_hack/__init__.py:36: UserWarning: Setuptools is replacing distutils.\n",
            "  warnings.warn(\"Setuptools is replacing distutils.\")\n",
            "[nltk_data] Downloading package punkt to /root/nltk_data...\n",
            "[nltk_data]   Unzipping tokenizers/punkt.zip.\n",
            "[nltk_data] Downloading package stopwords to /root/nltk_data...\n",
            "[nltk_data]   Unzipping corpora/stopwords.zip.\n",
            "\u001b[1;30mWARNING:\u001b[0m \u001b[33mMaking sections in /content/plastic_pollution/PMC10613303/fulltext.xml\u001b[0m\n",
            "\u001b[1;30mINFO:\u001b[0m wrote XML sections for /content/plastic_pollution/PMC10613303/fulltext.xml /content/plastic_pollution/PMC10613303/sections\n",
            "\u001b[1;30mWARNING:\u001b[0m \u001b[33mMaking sections in /content/plastic_pollution/PMC11004578/fulltext.xml\u001b[0m\n",
            "\u001b[1;30mINFO:\u001b[0m wrote XML sections for /content/plastic_pollution/PMC11004578/fulltext.xml /content/plastic_pollution/PMC11004578/sections\n",
            "\u001b[1;30mWARNING:\u001b[0m \u001b[33mMaking sections in /content/plastic_pollution/PMC10957937/fulltext.xml\u001b[0m\n",
            "\u001b[1;30mINFO:\u001b[0m wrote XML sections for /content/plastic_pollution/PMC10957937/fulltext.xml /content/plastic_pollution/PMC10957937/sections\n",
            "\u001b[1;30mWARNING:\u001b[0m \u001b[33mMaking sections in /content/plastic_pollution/PMC11097532/fulltext.xml\u001b[0m\n",
            "\u001b[1;30mINFO:\u001b[0m wrote XML sections for /content/plastic_pollution/PMC11097532/fulltext.xml /content/plastic_pollution/PMC11097532/sections\n",
            "\u001b[1;30mWARNING:\u001b[0m \u001b[33mMaking sections in /content/plastic_pollution/PMC10314155/fulltext.xml\u001b[0m\n",
            "\u001b[1;30mINFO:\u001b[0m wrote XML sections for /content/plastic_pollution/PMC10314155/fulltext.xml /content/plastic_pollution/PMC10314155/sections\n",
            "\u001b[1;30mWARNING:\u001b[0m \u001b[33mMaking sections in /content/plastic_pollution/PMC11042729/fulltext.xml\u001b[0m\n",
            "\u001b[1;30mINFO:\u001b[0m wrote XML sections for /content/plastic_pollution/PMC11042729/fulltext.xml /content/plastic_pollution/PMC11042729/sections\n",
            "\u001b[1;30mWARNING:\u001b[0m \u001b[33mMaking sections in /content/plastic_pollution/PMC10806995/fulltext.xml\u001b[0m\n",
            "\u001b[1;30mINFO:\u001b[0m wrote XML sections for /content/plastic_pollution/PMC10806995/fulltext.xml /content/plastic_pollution/PMC10806995/sections\n",
            "\u001b[1;30mWARNING:\u001b[0m \u001b[33mMaking sections in /content/plastic_pollution/PMC11058615/fulltext.xml\u001b[0m\n",
            "\u001b[1;30mINFO:\u001b[0m wrote XML sections for /content/plastic_pollution/PMC11058615/fulltext.xml /content/plastic_pollution/PMC11058615/sections\n",
            "\u001b[1;30mWARNING:\u001b[0m \u001b[33mMaking sections in /content/plastic_pollution/PMC10917744/fulltext.xml\u001b[0m\n",
            "\u001b[1;30mINFO:\u001b[0m wrote XML sections for /content/plastic_pollution/PMC10917744/fulltext.xml /content/plastic_pollution/PMC10917744/sections\n",
            "\u001b[1;30mWARNING:\u001b[0m \u001b[33mMaking sections in /content/plastic_pollution/PMC10032476/fulltext.xml\u001b[0m\n",
            "\u001b[1;30mINFO:\u001b[0m wrote XML sections for /content/plastic_pollution/PMC10032476/fulltext.xml /content/plastic_pollution/PMC10032476/sections\n",
            "100% 13/13 [00:00<00:00, 673.04it/s]\n",
            "0it [00:00, ?it/s]\n",
            "100% 1/1 [00:00<00:00, 1442.33it/s]\n",
            "100% 10/10 [00:00<00:00, 315.49it/s]\n",
            "100% 5/5 [00:00<00:00, 1669.04it/s]\n",
            "100% 80/80 [00:00<00:00, 863.47it/s]\n",
            "0it [00:00, ?it/s]\n",
            "100% 9/9 [00:00<00:00, 942.26it/s]\n",
            "100% 35/35 [00:00<00:00, 1040.64it/s]\n",
            "100% 7/7 [00:00<00:00, 1522.99it/s]\n",
            "100% 41/41 [00:00<00:00, 1299.66it/s]\n",
            "100% 67/67 [00:00<00:00, 826.09it/s]\n",
            "100% 2/2 [00:00<00:00, 427.88it/s]\n",
            "100% 10/10 [00:00<00:00, 1913.55it/s]\n",
            "0it [00:00, ?it/s]\n",
            "\u001b[1;30mINFO:\u001b[0m Found 1351 sentences in the section(s).\n",
            "\u001b[1;30mINFO:\u001b[0m getting terms from ORGANIZATION\n",
            "100% 1351/1351 [01:06<00:00, 20.21it/s]\n",
            "/usr/local/lib/python3.10/dist-packages/docanalysis/entity_extraction.py:675: FutureWarning: The default value of regex will change from True to False in a future version. In addition, single character regular expressions will *not* be treated as literal strings when regex=True.\n",
            "  df[col] = df[col].astype(str).str.replace(\n",
            "/usr/local/lib/python3.10/dist-packages/docanalysis/entity_extraction.py:676: FutureWarning: The default value of regex will change from True to False in a future version. In addition, single character regular expressions will *not* be treated as literal strings when regex=True.\n",
            "  \"[\", \"\").str.replace(\"]\", \"\")\n",
            "\u001b[1;30mINFO:\u001b[0m wrote output to /content/plastic_pollution/plastic_pollution.csv\n"
          ]
        }
      ],
      "source": [
        "!docanalysis --project_name plastic_pollution  --make_section --dictionary ORGANIZATION --output plastic_pollution.csv"
      ]
    },
    {
      "cell_type": "code",
      "execution_count": null,
      "metadata": {
        "colab": {
          "background_save": true
        },
        "id": "_3m-T17xHC1I",
        "outputId": "0fbc7799-1b9f-4ad6-9aaf-0687d31a8831"
      },
      "outputs": [
        {
          "name": "stdout",
          "output_type": "stream",
          "text": [
            "2024-06-20 16:43:21.248174: E external/local_xla/xla/stream_executor/cuda/cuda_dnn.cc:9261] Unable to register cuDNN factory: Attempting to register factory for plugin cuDNN when one has already been registered\n",
            "2024-06-20 16:43:21.248239: E external/local_xla/xla/stream_executor/cuda/cuda_fft.cc:607] Unable to register cuFFT factory: Attempting to register factory for plugin cuFFT when one has already been registered\n",
            "2024-06-20 16:43:21.249735: E external/local_xla/xla/stream_executor/cuda/cuda_blas.cc:1515] Unable to register cuBLAS factory: Attempting to register factory for plugin cuBLAS when one has already been registered\n",
            "2024-06-20 16:43:21.257826: I tensorflow/core/platform/cpu_feature_guard.cc:182] This TensorFlow binary is optimized to use available CPU instructions in performance-critical operations.\n",
            "To enable the following instructions: AVX2 FMA, in other operations, rebuild TensorFlow with the appropriate compiler flags.\n",
            "2024-06-20 16:43:22.496248: W tensorflow/compiler/tf2tensorrt/utils/py_utils.cc:38] TF-TRT Warning: Could not find TensorRT\n",
            "/usr/local/lib/python3.10/dist-packages/_distutils_hack/__init__.py:36: UserWarning: Setuptools is replacing distutils.\n",
            "  warnings.warn(\"Setuptools is replacing distutils.\")\n",
            "\u001b[1;30mWARNING:\u001b[0m \u001b[33mMaking sections in /content/Climate_change/PMC11009628/fulltext.xml\u001b[0m\n",
            "\u001b[1;30mINFO:\u001b[0m wrote XML sections for /content/Climate_change/PMC11009628/fulltext.xml /content/Climate_change/PMC11009628/sections\n",
            "\u001b[1;30mWARNING:\u001b[0m \u001b[33mMaking sections in /content/Climate_change/PMC11011371/fulltext.xml\u001b[0m\n",
            "\u001b[1;30mINFO:\u001b[0m wrote XML sections for /content/Climate_change/PMC11011371/fulltext.xml /content/Climate_change/PMC11011371/sections\n",
            "\u001b[1;30mWARNING:\u001b[0m \u001b[33mMaking sections in /content/Climate_change/PMC11033471/fulltext.xml\u001b[0m\n",
            "\u001b[1;30mINFO:\u001b[0m wrote XML sections for /content/Climate_change/PMC11033471/fulltext.xml /content/Climate_change/PMC11033471/sections\n",
            "\u001b[1;30mWARNING:\u001b[0m \u001b[33mMaking sections in /content/Climate_change/PMC11088128/fulltext.xml\u001b[0m\n",
            "\u001b[1;30mINFO:\u001b[0m wrote XML sections for /content/Climate_change/PMC11088128/fulltext.xml /content/Climate_change/PMC11088128/sections\n",
            "\u001b[1;30mWARNING:\u001b[0m \u001b[33mMaking sections in /content/Climate_change/PMC11079277/fulltext.xml\u001b[0m\n",
            "\u001b[1;30mINFO:\u001b[0m wrote XML sections for /content/Climate_change/PMC11079277/fulltext.xml /content/Climate_change/PMC11079277/sections\n",
            "\u001b[1;30mWARNING:\u001b[0m \u001b[33mMaking sections in /content/Climate_change/PMC11139277/fulltext.xml\u001b[0m\n",
            "\u001b[1;30mINFO:\u001b[0m wrote XML sections for /content/Climate_change/PMC11139277/fulltext.xml /content/Climate_change/PMC11139277/sections\n",
            "\u001b[1;30mWARNING:\u001b[0m \u001b[33mMaking sections in /content/Climate_change/PMC11076737/fulltext.xml\u001b[0m\n",
            "\u001b[1;30mINFO:\u001b[0m wrote XML sections for /content/Climate_change/PMC11076737/fulltext.xml /content/Climate_change/PMC11076737/sections\n",
            "\u001b[1;30mWARNING:\u001b[0m \u001b[33mMaking sections in /content/Climate_change/PMC10904339/fulltext.xml\u001b[0m\n",
            "\u001b[1;30mINFO:\u001b[0m wrote XML sections for /content/Climate_change/PMC10904339/fulltext.xml /content/Climate_change/PMC10904339/sections\n",
            "\u001b[1;30mWARNING:\u001b[0m \u001b[33mMaking sections in /content/Climate_change/PMC10951626/fulltext.xml\u001b[0m\n",
            "\u001b[1;30mINFO:\u001b[0m wrote XML sections for /content/Climate_change/PMC10951626/fulltext.xml /content/Climate_change/PMC10951626/sections\n",
            "\u001b[1;30mWARNING:\u001b[0m \u001b[33mMaking sections in /content/Climate_change/PMC11023931/fulltext.xml\u001b[0m\n",
            "\u001b[1;30mINFO:\u001b[0m wrote XML sections for /content/Climate_change/PMC11023931/fulltext.xml /content/Climate_change/PMC11023931/sections\n",
            "100% 10/10 [00:00<00:00, 642.37it/s]\n",
            "0it [00:00, ?it/s]\n",
            "100% 14/14 [00:00<00:00, 1588.06it/s]\n",
            "100% 12/12 [00:00<00:00, 708.19it/s]\n",
            "100% 16/16 [00:00<00:00, 1768.26it/s]\n",
            "100% 30/30 [00:00<00:00, 1386.24it/s]\n",
            "100% 4/4 [00:00<00:00, 2118.34it/s]\n",
            "100% 25/25 [00:00<00:00, 1476.62it/s]\n",
            "100% 28/28 [00:00<00:00, 1270.97it/s]\n",
            "100% 8/8 [00:00<00:00, 1562.27it/s]\n",
            "100% 24/24 [00:00<00:00, 1491.42it/s]\n",
            "100% 24/24 [00:00<00:00, 1024.89it/s]\n",
            "100% 15/15 [00:00<00:00, 208.49it/s]\n",
            "100% 10/10 [00:00<00:00, 1859.01it/s]\n",
            "0it [00:00, ?it/s]\n",
            "\u001b[1;30mINFO:\u001b[0m Found 792 sentences in the section(s).\n",
            "\u001b[1;30mINFO:\u001b[0m getting terms from ORGANIZATION\n",
            "100% 792/792 [00:39<00:00, 20.06it/s]\n",
            "/usr/local/lib/python3.10/dist-packages/docanalysis/entity_extraction.py:675: FutureWarning: The default value of regex will change from True to False in a future version. In addition, single character regular expressions will *not* be treated as literal strings when regex=True.\n",
            "  df[col] = df[col].astype(str).str.replace(\n",
            "/usr/local/lib/python3.10/dist-packages/docanalysis/entity_extraction.py:676: FutureWarning: The default value of regex will change from True to False in a future version. In addition, single character regular expressions will *not* be treated as literal strings when regex=True.\n",
            "  \"[\", \"\").str.replace(\"]\", \"\")\n",
            "\u001b[1;30mINFO:\u001b[0m wrote output to /content/Climate_change/Climate_change.csv\n"
          ]
        }
      ],
      "source": [
        "!docanalysis --project_name Climate_change  --make_section --dictionary ORGANIZATION --output Climate_change.csv"
      ]
    },
    {
      "cell_type": "code",
      "execution_count": null,
      "metadata": {
        "colab": {
          "background_save": true
        },
        "id": "nJjpI9FvHVSa",
        "outputId": "f3a95bd3-df94-497c-8c33-6855d5a90a9c"
      },
      "outputs": [
        {
          "name": "stdout",
          "output_type": "stream",
          "text": [
            "2024-06-20 16:44:11.118566: E external/local_xla/xla/stream_executor/cuda/cuda_dnn.cc:9261] Unable to register cuDNN factory: Attempting to register factory for plugin cuDNN when one has already been registered\n",
            "2024-06-20 16:44:11.118622: E external/local_xla/xla/stream_executor/cuda/cuda_fft.cc:607] Unable to register cuFFT factory: Attempting to register factory for plugin cuFFT when one has already been registered\n",
            "2024-06-20 16:44:11.120068: E external/local_xla/xla/stream_executor/cuda/cuda_blas.cc:1515] Unable to register cuBLAS factory: Attempting to register factory for plugin cuBLAS when one has already been registered\n",
            "2024-06-20 16:44:11.128148: I tensorflow/core/platform/cpu_feature_guard.cc:182] This TensorFlow binary is optimized to use available CPU instructions in performance-critical operations.\n",
            "To enable the following instructions: AVX2 FMA, in other operations, rebuild TensorFlow with the appropriate compiler flags.\n",
            "2024-06-20 16:44:12.365726: W tensorflow/compiler/tf2tensorrt/utils/py_utils.cc:38] TF-TRT Warning: Could not find TensorRT\n",
            "/usr/local/lib/python3.10/dist-packages/_distutils_hack/__init__.py:36: UserWarning: Setuptools is replacing distutils.\n",
            "  warnings.warn(\"Setuptools is replacing distutils.\")\n",
            "\u001b[1;30mWARNING:\u001b[0m \u001b[33mMaking sections in /content/Human_health/PMC11050485/fulltext.xml\u001b[0m\n",
            "\u001b[1;30mINFO:\u001b[0m wrote XML sections for /content/Human_health/PMC11050485/fulltext.xml /content/Human_health/PMC11050485/sections\n",
            "\u001b[1;30mWARNING:\u001b[0m \u001b[33mMaking sections in /content/Human_health/PMC10819490/fulltext.xml\u001b[0m\n",
            "\u001b[1;30mINFO:\u001b[0m wrote XML sections for /content/Human_health/PMC10819490/fulltext.xml /content/Human_health/PMC10819490/sections\n",
            "\u001b[1;30mWARNING:\u001b[0m \u001b[33mMaking sections in /content/Human_health/PMC11124005/fulltext.xml\u001b[0m\n",
            "\u001b[1;30mINFO:\u001b[0m wrote XML sections for /content/Human_health/PMC11124005/fulltext.xml /content/Human_health/PMC11124005/sections\n",
            "\u001b[1;30mWARNING:\u001b[0m \u001b[33mMaking sections in /content/Human_health/PMC11011512/fulltext.xml\u001b[0m\n",
            "\u001b[1;30mINFO:\u001b[0m wrote XML sections for /content/Human_health/PMC11011512/fulltext.xml /content/Human_health/PMC11011512/sections\n",
            "\u001b[1;30mWARNING:\u001b[0m \u001b[33mMaking sections in /content/Human_health/PMC10973985/fulltext.xml\u001b[0m\n",
            "\u001b[1;30mINFO:\u001b[0m wrote XML sections for /content/Human_health/PMC10973985/fulltext.xml /content/Human_health/PMC10973985/sections\n",
            "\u001b[1;30mWARNING:\u001b[0m \u001b[33m/content/Human_health/PMC11057861/fulltext.xml is empty\u001b[0m\n",
            "\u001b[1;30mWARNING:\u001b[0m \u001b[33mMaking sections in /content/Human_health/PMC11002681/fulltext.xml\u001b[0m\n",
            "\u001b[1;30mINFO:\u001b[0m wrote XML sections for /content/Human_health/PMC11002681/fulltext.xml /content/Human_health/PMC11002681/sections\n",
            "\u001b[1;30mWARNING:\u001b[0m \u001b[33mMaking sections in /content/Human_health/PMC11134732/fulltext.xml\u001b[0m\n",
            "\u001b[1;30mINFO:\u001b[0m wrote XML sections for /content/Human_health/PMC11134732/fulltext.xml /content/Human_health/PMC11134732/sections\n",
            "\u001b[1;30mWARNING:\u001b[0m \u001b[33mMaking sections in /content/Human_health/PMC10975530/fulltext.xml\u001b[0m\n",
            "\u001b[1;30mINFO:\u001b[0m wrote XML sections for /content/Human_health/PMC10975530/fulltext.xml /content/Human_health/PMC10975530/sections\n",
            "\u001b[1;30mWARNING:\u001b[0m \u001b[33mMaking sections in /content/Human_health/PMC10779361/fulltext.xml\u001b[0m\n",
            "\u001b[1;30mINFO:\u001b[0m wrote XML sections for /content/Human_health/PMC10779361/fulltext.xml /content/Human_health/PMC10779361/sections\n",
            "100% 4/4 [00:00<00:00, 390.81it/s]\n",
            "0it [00:00, ?it/s]\n",
            "100% 16/16 [00:00<00:00, 1453.61it/s]\n",
            "100% 10/10 [00:00<00:00, 816.55it/s]\n",
            "100% 7/7 [00:00<00:00, 1377.70it/s]\n",
            "0it [00:00, ?it/s]\n",
            "0it [00:00, ?it/s]\n",
            "100% 2/2 [00:00<00:00, 1021.38it/s]\n",
            "100% 14/14 [00:00<00:00, 540.02it/s]\n",
            "100% 3/3 [00:00<00:00, 1376.69it/s]\n",
            "0it [00:00, ?it/s]\n",
            "0it [00:00, ?it/s]\n",
            "100% 2/2 [00:00<00:00, 149.52it/s]\n",
            "100% 9/9 [00:00<00:00, 2026.45it/s]\n",
            "0it [00:00, ?it/s]\n",
            "\u001b[1;30mINFO:\u001b[0m Found 200 sentences in the section(s).\n",
            "\u001b[1;30mINFO:\u001b[0m getting terms from ORGANIZATION\n",
            "100% 200/200 [00:14<00:00, 13.65it/s]\n",
            "/usr/local/lib/python3.10/dist-packages/docanalysis/entity_extraction.py:675: FutureWarning: The default value of regex will change from True to False in a future version. In addition, single character regular expressions will *not* be treated as literal strings when regex=True.\n",
            "  df[col] = df[col].astype(str).str.replace(\n",
            "/usr/local/lib/python3.10/dist-packages/docanalysis/entity_extraction.py:676: FutureWarning: The default value of regex will change from True to False in a future version. In addition, single character regular expressions will *not* be treated as literal strings when regex=True.\n",
            "  \"[\", \"\").str.replace(\"]\", \"\")\n",
            "\u001b[1;30mINFO:\u001b[0m wrote output to /content/Human_health/Human_health.csv\n"
          ]
        }
      ],
      "source": [
        "!docanalysis --project_name Human_health  --make_section --dictionary ORGANIZATION --output Human_health.csv"
      ]
    },
    {
      "cell_type": "code",
      "execution_count": null,
      "metadata": {
        "colab": {
          "background_save": true
        },
        "id": "VF8SCN7uHdW_",
        "outputId": "eabdd676-ef14-4f8c-e7bc-10dd0cc427d0"
      },
      "outputs": [
        {
          "name": "stdout",
          "output_type": "stream",
          "text": [
            "2024-06-20 16:44:37.150733: E external/local_xla/xla/stream_executor/cuda/cuda_dnn.cc:9261] Unable to register cuDNN factory: Attempting to register factory for plugin cuDNN when one has already been registered\n",
            "2024-06-20 16:44:37.150799: E external/local_xla/xla/stream_executor/cuda/cuda_fft.cc:607] Unable to register cuFFT factory: Attempting to register factory for plugin cuFFT when one has already been registered\n",
            "2024-06-20 16:44:37.152219: E external/local_xla/xla/stream_executor/cuda/cuda_blas.cc:1515] Unable to register cuBLAS factory: Attempting to register factory for plugin cuBLAS when one has already been registered\n",
            "2024-06-20 16:44:37.159991: I tensorflow/core/platform/cpu_feature_guard.cc:182] This TensorFlow binary is optimized to use available CPU instructions in performance-critical operations.\n",
            "To enable the following instructions: AVX2 FMA, in other operations, rebuild TensorFlow with the appropriate compiler flags.\n",
            "2024-06-20 16:44:38.436232: W tensorflow/compiler/tf2tensorrt/utils/py_utils.cc:38] TF-TRT Warning: Could not find TensorRT\n",
            "/usr/local/lib/python3.10/dist-packages/_distutils_hack/__init__.py:36: UserWarning: Setuptools is replacing distutils.\n",
            "  warnings.warn(\"Setuptools is replacing distutils.\")\n",
            "\u001b[1;30mWARNING:\u001b[0m \u001b[33mMaking sections in /content/Environmental_crisis/PMC7612203/fulltext.xml\u001b[0m\n",
            "\u001b[1;30mINFO:\u001b[0m wrote XML sections for /content/Environmental_crisis/PMC7612203/fulltext.xml /content/Environmental_crisis/PMC7612203/sections\n",
            "\u001b[1;30mWARNING:\u001b[0m \u001b[33mMaking sections in /content/Environmental_crisis/PMC10901142/fulltext.xml\u001b[0m\n",
            "\u001b[1;30mINFO:\u001b[0m wrote XML sections for /content/Environmental_crisis/PMC10901142/fulltext.xml /content/Environmental_crisis/PMC10901142/sections\n",
            "\u001b[1;30mWARNING:\u001b[0m \u001b[33mMaking sections in /content/Environmental_crisis/PMC9831589/fulltext.xml\u001b[0m\n",
            "\u001b[1;30mINFO:\u001b[0m wrote XML sections for /content/Environmental_crisis/PMC9831589/fulltext.xml /content/Environmental_crisis/PMC9831589/sections\n",
            "\u001b[1;30mWARNING:\u001b[0m \u001b[33mMaking sections in /content/Environmental_crisis/PMC8596479/fulltext.xml\u001b[0m\n",
            "\u001b[1;30mINFO:\u001b[0m wrote XML sections for /content/Environmental_crisis/PMC8596479/fulltext.xml /content/Environmental_crisis/PMC8596479/sections\n",
            "\u001b[1;30mWARNING:\u001b[0m \u001b[33mMaking sections in /content/Environmental_crisis/PMC7960880/fulltext.xml\u001b[0m\n",
            "\u001b[1;30mINFO:\u001b[0m wrote XML sections for /content/Environmental_crisis/PMC7960880/fulltext.xml /content/Environmental_crisis/PMC7960880/sections\n",
            "\u001b[1;30mWARNING:\u001b[0m \u001b[33mMaking sections in /content/Environmental_crisis/PMC9129403/fulltext.xml\u001b[0m\n",
            "\u001b[1;30mINFO:\u001b[0m wrote XML sections for /content/Environmental_crisis/PMC9129403/fulltext.xml /content/Environmental_crisis/PMC9129403/sections\n",
            "\u001b[1;30mWARNING:\u001b[0m \u001b[33mMaking sections in /content/Environmental_crisis/PMC8810853/fulltext.xml\u001b[0m\n",
            "\u001b[1;30mINFO:\u001b[0m wrote XML sections for /content/Environmental_crisis/PMC8810853/fulltext.xml /content/Environmental_crisis/PMC8810853/sections\n",
            "\u001b[1;30mWARNING:\u001b[0m \u001b[33mMaking sections in /content/Environmental_crisis/PMC10499552/fulltext.xml\u001b[0m\n",
            "\u001b[1;30mINFO:\u001b[0m wrote XML sections for /content/Environmental_crisis/PMC10499552/fulltext.xml /content/Environmental_crisis/PMC10499552/sections\n",
            "\u001b[1;30mWARNING:\u001b[0m \u001b[33mMaking sections in /content/Environmental_crisis/PMC8175799/fulltext.xml\u001b[0m\n",
            "\u001b[1;30mINFO:\u001b[0m wrote XML sections for /content/Environmental_crisis/PMC8175799/fulltext.xml /content/Environmental_crisis/PMC8175799/sections\n",
            "\u001b[1;30mWARNING:\u001b[0m \u001b[33mMaking sections in /content/Environmental_crisis/PMC8748437/fulltext.xml\u001b[0m\n",
            "\u001b[1;30mINFO:\u001b[0m wrote XML sections for /content/Environmental_crisis/PMC8748437/fulltext.xml /content/Environmental_crisis/PMC8748437/sections\n",
            "100% 9/9 [00:00<00:00, 590.62it/s]\n",
            "0it [00:00, ?it/s]\n",
            "100% 16/16 [00:00<00:00, 1637.44it/s]\n",
            "100% 10/10 [00:00<00:00, 671.41it/s]\n",
            "100% 12/12 [00:00<00:00, 1349.81it/s]\n",
            "100% 26/26 [00:00<00:00, 1113.05it/s]\n",
            "100% 2/2 [00:00<00:00, 1936.43it/s]\n",
            "100% 5/5 [00:00<00:00, 1380.16it/s]\n",
            "100% 18/18 [00:00<00:00, 1207.55it/s]\n",
            "100% 6/6 [00:00<00:00, 1614.23it/s]\n",
            "100% 14/14 [00:00<00:00, 1840.47it/s]\n",
            "100% 25/25 [00:00<00:00, 1048.28it/s]\n",
            "100% 2/2 [00:00<00:00, 2103.46it/s]\n",
            "100% 10/10 [00:00<00:00, 2028.68it/s]\n",
            "0it [00:00, ?it/s]\n",
            "\u001b[1;30mINFO:\u001b[0m Found 557 sentences in the section(s).\n",
            "\u001b[1;30mINFO:\u001b[0m getting terms from ORGANIZATION\n",
            "100% 557/557 [00:27<00:00, 20.02it/s]\n",
            "/usr/local/lib/python3.10/dist-packages/docanalysis/entity_extraction.py:675: FutureWarning: The default value of regex will change from True to False in a future version. In addition, single character regular expressions will *not* be treated as literal strings when regex=True.\n",
            "  df[col] = df[col].astype(str).str.replace(\n",
            "/usr/local/lib/python3.10/dist-packages/docanalysis/entity_extraction.py:676: FutureWarning: The default value of regex will change from True to False in a future version. In addition, single character regular expressions will *not* be treated as literal strings when regex=True.\n",
            "  \"[\", \"\").str.replace(\"]\", \"\")\n",
            "\u001b[1;30mINFO:\u001b[0m wrote output to /content/Environmental_crisis/Environmental_crisis.csv\n"
          ]
        }
      ],
      "source": [
        "!docanalysis --project_name Environmental_crisis  --make_section --dictionary ORGANIZATION --output Environmental_crisis.csv"
      ]
    },
    {
      "cell_type": "code",
      "execution_count": null,
      "metadata": {
        "colab": {
          "background_save": true
        },
        "id": "mytPYCE4Hn8f",
        "outputId": "9303e714-925b-4f7d-ba46-3ec0b4b812a4"
      },
      "outputs": [
        {
          "name": "stdout",
          "output_type": "stream",
          "text": [
            "2024-06-20 16:45:16.204003: E external/local_xla/xla/stream_executor/cuda/cuda_dnn.cc:9261] Unable to register cuDNN factory: Attempting to register factory for plugin cuDNN when one has already been registered\n",
            "2024-06-20 16:45:16.204070: E external/local_xla/xla/stream_executor/cuda/cuda_fft.cc:607] Unable to register cuFFT factory: Attempting to register factory for plugin cuFFT when one has already been registered\n",
            "2024-06-20 16:45:16.205621: E external/local_xla/xla/stream_executor/cuda/cuda_blas.cc:1515] Unable to register cuBLAS factory: Attempting to register factory for plugin cuBLAS when one has already been registered\n",
            "2024-06-20 16:45:16.213614: I tensorflow/core/platform/cpu_feature_guard.cc:182] This TensorFlow binary is optimized to use available CPU instructions in performance-critical operations.\n",
            "To enable the following instructions: AVX2 FMA, in other operations, rebuild TensorFlow with the appropriate compiler flags.\n",
            "2024-06-20 16:45:17.467629: W tensorflow/compiler/tf2tensorrt/utils/py_utils.cc:38] TF-TRT Warning: Could not find TensorRT\n",
            "/usr/local/lib/python3.10/dist-packages/_distutils_hack/__init__.py:36: UserWarning: Setuptools is replacing distutils.\n",
            "  warnings.warn(\"Setuptools is replacing distutils.\")\n",
            "\u001b[1;30mWARNING:\u001b[0m \u001b[33mMaking sections in /content/Single_use_plastic/PMC11143755/fulltext.xml\u001b[0m\n",
            "\u001b[1;30mINFO:\u001b[0m wrote XML sections for /content/Single_use_plastic/PMC11143755/fulltext.xml /content/Single_use_plastic/PMC11143755/sections\n",
            "\u001b[1;30mWARNING:\u001b[0m \u001b[33mMaking sections in /content/Single_use_plastic/PMC8918963/fulltext.xml\u001b[0m\n",
            "\u001b[1;30mINFO:\u001b[0m wrote XML sections for /content/Single_use_plastic/PMC8918963/fulltext.xml /content/Single_use_plastic/PMC8918963/sections\n",
            "\u001b[1;30mWARNING:\u001b[0m \u001b[33mMaking sections in /content/Single_use_plastic/PMC8806402/fulltext.xml\u001b[0m\n",
            "\u001b[1;30mINFO:\u001b[0m wrote XML sections for /content/Single_use_plastic/PMC8806402/fulltext.xml /content/Single_use_plastic/PMC8806402/sections\n",
            "\u001b[1;30mWARNING:\u001b[0m \u001b[33mMaking sections in /content/Single_use_plastic/PMC11121293/fulltext.xml\u001b[0m\n",
            "\u001b[1;30mINFO:\u001b[0m wrote XML sections for /content/Single_use_plastic/PMC11121293/fulltext.xml /content/Single_use_plastic/PMC11121293/sections\n",
            "\u001b[1;30mWARNING:\u001b[0m \u001b[33mMaking sections in /content/Single_use_plastic/PMC9345657/fulltext.xml\u001b[0m\n",
            "\u001b[1;30mINFO:\u001b[0m wrote XML sections for /content/Single_use_plastic/PMC9345657/fulltext.xml /content/Single_use_plastic/PMC9345657/sections\n",
            "\u001b[1;30mWARNING:\u001b[0m \u001b[33mMaking sections in /content/Single_use_plastic/PMC9988906/fulltext.xml\u001b[0m\n",
            "\u001b[1;30mINFO:\u001b[0m wrote XML sections for /content/Single_use_plastic/PMC9988906/fulltext.xml /content/Single_use_plastic/PMC9988906/sections\n",
            "\u001b[1;30mWARNING:\u001b[0m \u001b[33mMaking sections in /content/Single_use_plastic/PMC9785204/fulltext.xml\u001b[0m\n",
            "\u001b[1;30mINFO:\u001b[0m wrote XML sections for /content/Single_use_plastic/PMC9785204/fulltext.xml /content/Single_use_plastic/PMC9785204/sections\n",
            "\u001b[1;30mWARNING:\u001b[0m \u001b[33mMaking sections in /content/Single_use_plastic/PMC8859718/fulltext.xml\u001b[0m\n",
            "\u001b[1;30mINFO:\u001b[0m wrote XML sections for /content/Single_use_plastic/PMC8859718/fulltext.xml /content/Single_use_plastic/PMC8859718/sections\n",
            "\u001b[1;30mWARNING:\u001b[0m \u001b[33mMaking sections in /content/Single_use_plastic/PMC11081253/fulltext.xml\u001b[0m\n",
            "\u001b[1;30mINFO:\u001b[0m wrote XML sections for /content/Single_use_plastic/PMC11081253/fulltext.xml /content/Single_use_plastic/PMC11081253/sections\n",
            "\u001b[1;30mWARNING:\u001b[0m \u001b[33mMaking sections in /content/Single_use_plastic/PMC8835206/fulltext.xml\u001b[0m\n",
            "\u001b[1;30mINFO:\u001b[0m wrote XML sections for /content/Single_use_plastic/PMC8835206/fulltext.xml /content/Single_use_plastic/PMC8835206/sections\n",
            "100% 12/12 [00:00<00:00, 464.73it/s]\n",
            "0it [00:00, ?it/s]\n",
            "100% 26/26 [00:00<00:00, 1285.28it/s]\n",
            "100% 14/14 [00:00<00:00, 519.15it/s]\n",
            "100% 40/40 [00:00<00:00, 1119.65it/s]\n",
            "100% 172/172 [00:00<00:00, 904.58it/s]\n",
            "100% 2/2 [00:00<00:00, 1326.68it/s]\n",
            "100% 36/36 [00:00<00:00, 1038.39it/s]\n",
            "100% 75/75 [00:00<00:00, 734.32it/s]\n",
            "100% 9/9 [00:00<00:00, 832.44it/s]\n",
            "100% 40/40 [00:00<00:00, 1293.63it/s]\n",
            "100% 105/105 [00:00<00:00, 933.25it/s]\n",
            "100% 31/31 [00:00<00:00, 191.33it/s]\n",
            "100% 10/10 [00:00<00:00, 1345.92it/s]\n",
            "0it [00:00, ?it/s]\n",
            "\u001b[1;30mINFO:\u001b[0m Found 2143 sentences in the section(s).\n",
            "\u001b[1;30mINFO:\u001b[0m getting terms from ORGANIZATION\n",
            "100% 2143/2143 [01:43<00:00, 20.65it/s]\n",
            "/usr/local/lib/python3.10/dist-packages/docanalysis/entity_extraction.py:675: FutureWarning: The default value of regex will change from True to False in a future version. In addition, single character regular expressions will *not* be treated as literal strings when regex=True.\n",
            "  df[col] = df[col].astype(str).str.replace(\n",
            "/usr/local/lib/python3.10/dist-packages/docanalysis/entity_extraction.py:676: FutureWarning: The default value of regex will change from True to False in a future version. In addition, single character regular expressions will *not* be treated as literal strings when regex=True.\n",
            "  \"[\", \"\").str.replace(\"]\", \"\")\n",
            "\u001b[1;30mINFO:\u001b[0m wrote output to /content/Single_use_plastic/Sigle_use_plastic.csv\n"
          ]
        }
      ],
      "source": [
        "!docanalysis --project_name Single_use_plastic  --make_section --dictionary ORGANIZATION --output Sigle_use_plastic.csv"
      ]
    },
    {
      "cell_type": "code",
      "execution_count": null,
      "metadata": {
        "colab": {
          "background_save": true
        },
        "id": "dIMz7kZVIXY-",
        "outputId": "0cd595ff-ac68-42d4-c0e4-9d6a07060e17"
      },
      "outputs": [
        {
          "name": "stdout",
          "output_type": "stream",
          "text": [
            "2024-06-20 16:47:12.587803: E external/local_xla/xla/stream_executor/cuda/cuda_dnn.cc:9261] Unable to register cuDNN factory: Attempting to register factory for plugin cuDNN when one has already been registered\n",
            "2024-06-20 16:47:12.587865: E external/local_xla/xla/stream_executor/cuda/cuda_fft.cc:607] Unable to register cuFFT factory: Attempting to register factory for plugin cuFFT when one has already been registered\n",
            "2024-06-20 16:47:12.589725: E external/local_xla/xla/stream_executor/cuda/cuda_blas.cc:1515] Unable to register cuBLAS factory: Attempting to register factory for plugin cuBLAS when one has already been registered\n",
            "2024-06-20 16:47:12.598764: I tensorflow/core/platform/cpu_feature_guard.cc:182] This TensorFlow binary is optimized to use available CPU instructions in performance-critical operations.\n",
            "To enable the following instructions: AVX2 FMA, in other operations, rebuild TensorFlow with the appropriate compiler flags.\n",
            "2024-06-20 16:47:14.361189: W tensorflow/compiler/tf2tensorrt/utils/py_utils.cc:38] TF-TRT Warning: Could not find TensorRT\n",
            "/usr/local/lib/python3.10/dist-packages/_distutils_hack/__init__.py:36: UserWarning: Setuptools is replacing distutils.\n",
            "  warnings.warn(\"Setuptools is replacing distutils.\")\n",
            "\u001b[1;30mWARNING:\u001b[0m \u001b[33mMaking sections in /content/Microplastic/PMC11092166/fulltext.xml\u001b[0m\n",
            "\u001b[1;30mINFO:\u001b[0m wrote XML sections for /content/Microplastic/PMC11092166/fulltext.xml /content/Microplastic/PMC11092166/sections\n",
            "\u001b[1;30mWARNING:\u001b[0m \u001b[33mMaking sections in /content/Microplastic/PMC11120006/fulltext.xml\u001b[0m\n",
            "\u001b[1;30mINFO:\u001b[0m wrote XML sections for /content/Microplastic/PMC11120006/fulltext.xml /content/Microplastic/PMC11120006/sections\n",
            "\u001b[1;30mWARNING:\u001b[0m \u001b[33mMaking sections in /content/Microplastic/PMC11079410/fulltext.xml\u001b[0m\n",
            "\u001b[1;30mINFO:\u001b[0m wrote XML sections for /content/Microplastic/PMC11079410/fulltext.xml /content/Microplastic/PMC11079410/sections\n",
            "\u001b[1;30mWARNING:\u001b[0m \u001b[33mMaking sections in /content/Microplastic/PMC11140707/fulltext.xml\u001b[0m\n",
            "\u001b[1;30mINFO:\u001b[0m wrote XML sections for /content/Microplastic/PMC11140707/fulltext.xml /content/Microplastic/PMC11140707/sections\n",
            "\u001b[1;30mWARNING:\u001b[0m \u001b[33mMaking sections in /content/Microplastic/PMC11002670/fulltext.xml\u001b[0m\n",
            "\u001b[1;30mINFO:\u001b[0m wrote XML sections for /content/Microplastic/PMC11002670/fulltext.xml /content/Microplastic/PMC11002670/sections\n",
            "\u001b[1;30mWARNING:\u001b[0m \u001b[33mMaking sections in /content/Microplastic/PMC11053188/fulltext.xml\u001b[0m\n",
            "\u001b[1;30mINFO:\u001b[0m wrote XML sections for /content/Microplastic/PMC11053188/fulltext.xml /content/Microplastic/PMC11053188/sections\n",
            "\u001b[1;30mWARNING:\u001b[0m \u001b[33mMaking sections in /content/Microplastic/PMC11085246/fulltext.xml\u001b[0m\n",
            "\u001b[1;30mINFO:\u001b[0m wrote XML sections for /content/Microplastic/PMC11085246/fulltext.xml /content/Microplastic/PMC11085246/sections\n",
            "\u001b[1;30mWARNING:\u001b[0m \u001b[33mMaking sections in /content/Microplastic/PMC11139942/fulltext.xml\u001b[0m\n",
            "\u001b[1;30mINFO:\u001b[0m wrote XML sections for /content/Microplastic/PMC11139942/fulltext.xml /content/Microplastic/PMC11139942/sections\n",
            "\u001b[1;30mWARNING:\u001b[0m \u001b[33mMaking sections in /content/Microplastic/PMC11125818/fulltext.xml\u001b[0m\n",
            "\u001b[1;30mINFO:\u001b[0m wrote XML sections for /content/Microplastic/PMC11125818/fulltext.xml /content/Microplastic/PMC11125818/sections\n",
            "\u001b[1;30mWARNING:\u001b[0m \u001b[33mMaking sections in /content/Microplastic/PMC11079099/fulltext.xml\u001b[0m\n",
            "\u001b[1;30mINFO:\u001b[0m wrote XML sections for /content/Microplastic/PMC11079099/fulltext.xml /content/Microplastic/PMC11079099/sections\n",
            "100% 15/15 [00:00<00:00, 698.37it/s]\n",
            "0it [00:00, ?it/s]\n",
            "100% 6/6 [00:00<00:00, 1569.72it/s]\n",
            "100% 13/13 [00:00<00:00, 641.93it/s]\n",
            "100% 31/31 [00:00<00:00, 1555.71it/s]\n",
            "100% 100/100 [00:00<00:00, 1143.17it/s]\n",
            "100% 2/2 [00:00<00:00, 2081.54it/s]\n",
            "100% 20/20 [00:00<00:00, 1193.51it/s]\n",
            "100% 57/57 [00:00<00:00, 1140.01it/s]\n",
            "100% 11/11 [00:00<00:00, 1581.24it/s]\n",
            "100% 50/50 [00:00<00:00, 1602.48it/s]\n",
            "100% 100/100 [00:00<00:00, 1119.06it/s]\n",
            "100% 9/9 [00:00<00:00, 338.58it/s]\n",
            "100% 10/10 [00:00<00:00, 1741.53it/s]\n",
            "0it [00:00, ?it/s]\n",
            "\u001b[1;30mINFO:\u001b[0m Found 1937 sentences in the section(s).\n",
            "\u001b[1;30mINFO:\u001b[0m getting terms from ORGANIZATION\n",
            "100% 1937/1937 [01:26<00:00, 22.38it/s]\n",
            "/usr/local/lib/python3.10/dist-packages/docanalysis/entity_extraction.py:675: FutureWarning: The default value of regex will change from True to False in a future version. In addition, single character regular expressions will *not* be treated as literal strings when regex=True.\n",
            "  df[col] = df[col].astype(str).str.replace(\n",
            "/usr/local/lib/python3.10/dist-packages/docanalysis/entity_extraction.py:676: FutureWarning: The default value of regex will change from True to False in a future version. In addition, single character regular expressions will *not* be treated as literal strings when regex=True.\n",
            "  \"[\", \"\").str.replace(\"]\", \"\")\n",
            "\u001b[1;30mINFO:\u001b[0m wrote output to /content/Microplastic/Microplastic.csv\n"
          ]
        }
      ],
      "source": [
        "!docanalysis --project_name Microplastic  --make_section --dictionary ORGANIZATION --output Microplastic.csv"
      ]
    },
    {
      "cell_type": "code",
      "execution_count": null,
      "metadata": {
        "colab": {
          "background_save": true
        },
        "id": "7WzQG4ygIcC3",
        "outputId": "34874f98-8604-4fdd-935f-8ad44452015f"
      },
      "outputs": [
        {
          "name": "stdout",
          "output_type": "stream",
          "text": [
            "2024-06-20 16:48:52.166245: E external/local_xla/xla/stream_executor/cuda/cuda_dnn.cc:9261] Unable to register cuDNN factory: Attempting to register factory for plugin cuDNN when one has already been registered\n",
            "2024-06-20 16:48:52.166319: E external/local_xla/xla/stream_executor/cuda/cuda_fft.cc:607] Unable to register cuFFT factory: Attempting to register factory for plugin cuFFT when one has already been registered\n",
            "2024-06-20 16:48:52.167866: E external/local_xla/xla/stream_executor/cuda/cuda_blas.cc:1515] Unable to register cuBLAS factory: Attempting to register factory for plugin cuBLAS when one has already been registered\n",
            "2024-06-20 16:48:52.176327: I tensorflow/core/platform/cpu_feature_guard.cc:182] This TensorFlow binary is optimized to use available CPU instructions in performance-critical operations.\n",
            "To enable the following instructions: AVX2 FMA, in other operations, rebuild TensorFlow with the appropriate compiler flags.\n",
            "2024-06-20 16:48:53.396683: W tensorflow/compiler/tf2tensorrt/utils/py_utils.cc:38] TF-TRT Warning: Could not find TensorRT\n",
            "/usr/local/lib/python3.10/dist-packages/_distutils_hack/__init__.py:36: UserWarning: Setuptools is replacing distutils.\n",
            "  warnings.warn(\"Setuptools is replacing distutils.\")\n",
            "\u001b[1;30mWARNING:\u001b[0m \u001b[33mMaking sections in /content/Marine_life/PMC10952404/fulltext.xml\u001b[0m\n",
            "\u001b[1;30mINFO:\u001b[0m wrote XML sections for /content/Marine_life/PMC10952404/fulltext.xml /content/Marine_life/PMC10952404/sections\n",
            "\u001b[1;30mWARNING:\u001b[0m \u001b[33mMaking sections in /content/Marine_life/PMC9855070/fulltext.xml\u001b[0m\n",
            "\u001b[1;30mINFO:\u001b[0m wrote XML sections for /content/Marine_life/PMC9855070/fulltext.xml /content/Marine_life/PMC9855070/sections\n",
            "\u001b[1;30mWARNING:\u001b[0m \u001b[33mMaking sections in /content/Marine_life/PMC9617844/fulltext.xml\u001b[0m\n",
            "\u001b[1;30mINFO:\u001b[0m wrote XML sections for /content/Marine_life/PMC9617844/fulltext.xml /content/Marine_life/PMC9617844/sections\n",
            "\u001b[1;30mWARNING:\u001b[0m \u001b[33mMaking sections in /content/Marine_life/PMC8146595/fulltext.xml\u001b[0m\n",
            "\u001b[1;30mINFO:\u001b[0m wrote XML sections for /content/Marine_life/PMC8146595/fulltext.xml /content/Marine_life/PMC8146595/sections\n",
            "\u001b[1;30mWARNING:\u001b[0m \u001b[33mMaking sections in /content/Marine_life/PMC8364114/fulltext.xml\u001b[0m\n",
            "\u001b[1;30mINFO:\u001b[0m wrote XML sections for /content/Marine_life/PMC8364114/fulltext.xml /content/Marine_life/PMC8364114/sections\n",
            "\u001b[1;30mWARNING:\u001b[0m \u001b[33mMaking sections in /content/Marine_life/PMC10077225/fulltext.xml\u001b[0m\n",
            "\u001b[1;30mINFO:\u001b[0m wrote XML sections for /content/Marine_life/PMC10077225/fulltext.xml /content/Marine_life/PMC10077225/sections\n",
            "\u001b[1;30mWARNING:\u001b[0m \u001b[33mMaking sections in /content/Marine_life/PMC9269963/fulltext.xml\u001b[0m\n",
            "\u001b[1;30mINFO:\u001b[0m wrote XML sections for /content/Marine_life/PMC9269963/fulltext.xml /content/Marine_life/PMC9269963/sections\n",
            "\u001b[1;30mWARNING:\u001b[0m \u001b[33mMaking sections in /content/Marine_life/PMC8900478/fulltext.xml\u001b[0m\n",
            "\u001b[1;30mINFO:\u001b[0m wrote XML sections for /content/Marine_life/PMC8900478/fulltext.xml /content/Marine_life/PMC8900478/sections\n",
            "\u001b[1;30mWARNING:\u001b[0m \u001b[33mMaking sections in /content/Marine_life/PMC9923492/fulltext.xml\u001b[0m\n",
            "\u001b[1;30mINFO:\u001b[0m wrote XML sections for /content/Marine_life/PMC9923492/fulltext.xml /content/Marine_life/PMC9923492/sections\n",
            "\u001b[1;30mWARNING:\u001b[0m \u001b[33mMaking sections in /content/Marine_life/PMC9576104/fulltext.xml\u001b[0m\n",
            "\u001b[1;30mINFO:\u001b[0m wrote XML sections for /content/Marine_life/PMC9576104/fulltext.xml /content/Marine_life/PMC9576104/sections\n",
            "100% 12/12 [00:00<00:00, 671.82it/s]\n",
            "0it [00:00, ?it/s]\n",
            "100% 27/27 [00:00<00:00, 1780.68it/s]\n",
            "100% 17/17 [00:00<00:00, 534.31it/s]\n",
            "100% 16/16 [00:00<00:00, 1705.35it/s]\n",
            "100% 87/87 [00:00<00:00, 1190.05it/s]\n",
            "0it [00:00, ?it/s]\n",
            "100% 52/52 [00:00<00:00, 828.55it/s]\n",
            "100% 39/39 [00:00<00:00, 948.05it/s]\n",
            "100% 6/6 [00:00<00:00, 1465.94it/s]\n",
            "100% 68/68 [00:00<00:00, 1349.95it/s]\n",
            "100% 105/105 [00:00<00:00, 849.53it/s]\n",
            "100% 11/11 [00:00<00:00, 297.63it/s]\n",
            "100% 10/10 [00:00<00:00, 1828.86it/s]\n",
            "0it [00:00, ?it/s]\n",
            "\u001b[1;30mINFO:\u001b[0m Found 1746 sentences in the section(s).\n",
            "\u001b[1;30mINFO:\u001b[0m getting terms from ORGANIZATION\n",
            "100% 1746/1746 [01:31<00:00, 18.99it/s]\n",
            "/usr/local/lib/python3.10/dist-packages/docanalysis/entity_extraction.py:675: FutureWarning: The default value of regex will change from True to False in a future version. In addition, single character regular expressions will *not* be treated as literal strings when regex=True.\n",
            "  df[col] = df[col].astype(str).str.replace(\n",
            "/usr/local/lib/python3.10/dist-packages/docanalysis/entity_extraction.py:676: FutureWarning: The default value of regex will change from True to False in a future version. In addition, single character regular expressions will *not* be treated as literal strings when regex=True.\n",
            "  \"[\", \"\").str.replace(\"]\", \"\")\n",
            "\u001b[1;30mINFO:\u001b[0m wrote output to /content/Marine_life/Marine_life.csv\n"
          ]
        }
      ],
      "source": [
        "!docanalysis --project_name Marine_life  --make_section --dictionary ORGANIZATION --output Marine_life.csv"
      ]
    },
    {
      "cell_type": "code",
      "execution_count": null,
      "metadata": {
        "id": "T77QYsTkIcoY"
      },
      "outputs": [],
      "source": [
        "!docanalysis --project_name Greenhouse_gas --make_section --dictionary ORGANIZATION --output Greenhouse_gas.csv"
      ]
    }
  ],
  "metadata": {
    "colab": {
      "provenance": []
    },
    "kernelspec": {
      "display_name": "Python 3",
      "name": "python3"
    },
    "language_info": {
      "name": "python"
    }
  },
  "nbformat": 4,
  "nbformat_minor": 0
}